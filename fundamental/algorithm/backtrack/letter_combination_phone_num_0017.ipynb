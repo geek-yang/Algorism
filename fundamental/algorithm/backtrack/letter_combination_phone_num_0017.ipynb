{
 "cells": [
  {
   "cell_type": "code",
   "execution_count": 1,
   "metadata": {},
   "outputs": [],
   "source": [
    "from typing import List"
   ]
  },
  {
   "cell_type": "code",
   "execution_count": 2,
   "metadata": {},
   "outputs": [],
   "source": [
    "class Solution:\n",
    "    def letterCombinations(self, digits: str) -> List[str]:\n",
    "        self.telephone = {\"1\": None,\n",
    "                          \"2\": [\"a\", \"b\", \"c\"],\n",
    "                          \"3\": [\"d\", \"e\", \"f\"],\n",
    "                          \"4\": [\"g\", \"h\", \"i\"],\n",
    "                          \"5\": [\"j\", \"k\", \"l\"],\n",
    "                          \"6\": [\"m\", \"n\", \"o\"],\n",
    "                          \"7\": [\"p\", \"q\", \"r\", \"s\"],\n",
    "                          \"8\": [\"t\", \"u\", \"v\"],\n",
    "                          \"9\": [\"w\", \"x\", \"y\", \"z\"],\n",
    "                          \"0\": None,\n",
    "                    }\n",
    "\n",
    "        self.letters = []\n",
    "        self.string = \"\"\n",
    "\n",
    "        if not digits:\n",
    "            return self.letters\n",
    "\n",
    "        self.findCombinations(digits, 0)\n",
    "\n",
    "        return self.letters\n",
    "\n",
    "\n",
    "    def findCombinations(self, digits, start):\n",
    "        if len(self.string) == len(digits):\n",
    "            self.letters.append(self.string[:])\n",
    "            return\n",
    "\n",
    "        for i in range(start, len(digits)):\n",
    "            for j in self.telephone[digits[i]]:\n",
    "                self.string += j\n",
    "                self.findCombinations(digits, i+1)\n",
    "                self.string = self.string[:-1]"
   ]
  },
  {
   "cell_type": "code",
   "execution_count": 3,
   "metadata": {},
   "outputs": [
    {
     "name": "stdout",
     "output_type": "stream",
     "text": [
      "['ad', 'ae', 'af', 'bd', 'be', 'bf', 'cd', 'ce', 'cf']\n"
     ]
    }
   ],
   "source": [
    "solver = Solution()\n",
    "digits = \"23\"\n",
    "strings = solver.letterCombinations(digits)\n",
    "print(strings)"
   ]
  }
 ],
 "metadata": {
  "kernelspec": {
   "display_name": "Python 3.9.5 ('base')",
   "language": "python",
   "name": "python3"
  },
  "language_info": {
   "codemirror_mode": {
    "name": "ipython",
    "version": 3
   },
   "file_extension": ".py",
   "mimetype": "text/x-python",
   "name": "python",
   "nbconvert_exporter": "python",
   "pygments_lexer": "ipython3",
   "version": "3.9.5"
  },
  "orig_nbformat": 4,
  "vscode": {
   "interpreter": {
    "hash": "e7604e8ec5f09e490e10161e37a4725039efd3ab703d81b1b8a1e00d6741866c"
   }
  }
 },
 "nbformat": 4,
 "nbformat_minor": 2
}
