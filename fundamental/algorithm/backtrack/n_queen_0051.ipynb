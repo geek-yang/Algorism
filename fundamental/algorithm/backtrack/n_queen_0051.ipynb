{
 "cells": [
  {
   "cell_type": "markdown",
   "metadata": {},
   "source": [
    "Leetcode question 51 <br>\n",
    "https://leetcode.com/problems/n-queens/"
   ]
  },
  {
   "cell_type": "code",
   "execution_count": null,
   "metadata": {},
   "outputs": [],
   "source": [
    "class Solution:\n",
    "    def solveNQueens(self, n: int) -> list[list[str]]:\n",
    "        results = []\n",
    "        board = [[\".\"] * n for _ in range(n)]\n",
    "        row = 0\n",
    "        self.backtrack(n, 0, row, board, results)\n",
    "\n",
    "        return results\n",
    "\n",
    "    def backtrack(self, n, start, row, board, results):\n",
    "        if row == n:\n",
    "            strings = self.board2string(board[:], n)\n",
    "            results.append(strings)\n",
    "            return\n",
    "\n",
    "        for i in range(start, n):\n",
    "            board[row][i] = \"Q\"\n",
    "            if self.if_valid(n, row, board):\n",
    "                row += 1\n",
    "                self.backtrack(n, i+1, row, board, results)\n",
    "                row -= 1\n",
    "            board[row][i] = \".\"\n",
    "\n",
    "    def board2string(self, board, n):\n",
    "        strings = []\n",
    "        for i in range(n):\n",
    "            strings[i] = [\"\".join(j) for j in board[i]]\n",
    "        \n",
    "        return strings\n",
    "\n",
    "    def if_valid(self, n, column, row, board):\n",
    "        # check column\n",
    "        for i in range(n):\n",
    "            if board[i][column] == \"Q\":\n",
    "                return False\n",
    "\n",
    "        # check 45 degree\n",
    "        for i in range(row - 1):\n",
    "            x = row - i\n",
    "            y = column - i\n",
    "            if x >= 0 and y >= 0:\n",
    "                if board[x][y] == \"Q\":\n",
    "                    return False\n",
    "\n",
    "        # check 135 degree\n",
    "        for i in range(row - 1):\n",
    "            x = row + i\n",
    "            y = column + i\n",
    "            if x >= 0 and y >= 0 and x < n and y < n:\n",
    "                if board[x][y] == \"Q\":\n",
    "                    return False\n",
    "\n",
    "        return True"
   ]
  },
  {
   "cell_type": "markdown",
   "metadata": {},
   "source": [
    "Time complexity: O(n*n^2) <br>\n",
    "Space complexity: O(n^2) <br>\n",
    "\n",
    "Next let's run some test cases."
   ]
  }
 ],
 "metadata": {
  "kernelspec": {
   "display_name": "Python 3",
   "language": "python",
   "name": "python3"
  },
  "language_info": {
   "name": "python",
   "version": "3.10.9"
  },
  "orig_nbformat": 4,
  "vscode": {
   "interpreter": {
    "hash": "b197f2d146ba9dade075c512c2d967b6caa99253af0cd5aa569ca8174c9a813e"
   }
  }
 },
 "nbformat": 4,
 "nbformat_minor": 2
}
