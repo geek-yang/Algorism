{
 "cells": [
  {
   "cell_type": "markdown",
   "metadata": {},
   "source": [
    "Leetcode question 51 <br>\n",
    "https://leetcode.com/problems/n-queens/"
   ]
  },
  {
   "cell_type": "code",
   "execution_count": 37,
   "metadata": {},
   "outputs": [],
   "source": [
    "class Solution:\n",
    "    def solveNQueens(self, n: int) -> list[list[str]]:\n",
    "        result = []\n",
    "\n",
    "        chessboard = ['.' * n for _ in range(n)]\n",
    "        self.backtracking(n, 0, chessboard, result)\n",
    "        return [[''.join(row) for row in solution] for solution in result]\n",
    "\n",
    "    def backtracking(self, n: int, row: int, chessboard: list[str], result: list[list[str]]) -> None:\n",
    "        if row == n:\n",
    "            result.append(chessboard[:])\n",
    "            return\n",
    "\n",
    "        for col in range(n):\n",
    "            if self.isValid(row, col, chessboard):\n",
    "                chessboard[row] = chessboard[row][:col] + 'Q' + chessboard[row][col+1:]\n",
    "                self.backtracking(n, row + 1, chessboard, result)\n",
    "                chessboard[row] = chessboard[row][:col] + '.' + chessboard[row][col+1:]\n",
    "\n",
    "    def isValid(self, row: int, col: int, chessboard: list[str]) -> bool:\n",
    "        # check column\n",
    "        for i in range(row):\n",
    "            if chessboard[i][col] == 'Q':\n",
    "                return False\n",
    "\n",
    "        # check 45 degree\n",
    "        i, j = row - 1, col - 1\n",
    "        while i >= 0 and j >= 0:\n",
    "            if chessboard[i][j] == 'Q':\n",
    "                return False\n",
    "            i -= 1\n",
    "            j -= 1\n",
    "\n",
    "        # check 135 degree\n",
    "        i, j = row - 1, col + 1\n",
    "        while i >= 0 and j < len(chessboard):\n",
    "            if chessboard[i][j] == 'Q':\n",
    "                return False\n",
    "            i -= 1\n",
    "            j += 1\n",
    "\n",
    "        return True"
   ]
  },
  {
   "attachments": {},
   "cell_type": "markdown",
   "metadata": {},
   "source": [
    "Time complexity: O(n!) <br>\n",
    "Space complexity: O(n^2) <br>\n",
    "\n",
    "Next let's run some test cases."
   ]
  },
  {
   "cell_type": "code",
   "execution_count": 38,
   "metadata": {},
   "outputs": [
    {
     "data": {
      "text/plain": [
       "[['.Q..', '...Q', 'Q...', '..Q.'], ['..Q.', 'Q...', '...Q', '.Q..']]"
      ]
     },
     "execution_count": 38,
     "metadata": {},
     "output_type": "execute_result"
    }
   ],
   "source": [
    "solution = Solution()\n",
    "solution.solveNQueens(4)"
   ]
  }
 ],
 "metadata": {
  "kernelspec": {
   "display_name": "Python 3",
   "language": "python",
   "name": "python3"
  },
  "language_info": {
   "codemirror_mode": {
    "name": "ipython",
    "version": 3
   },
   "file_extension": ".py",
   "mimetype": "text/x-python",
   "name": "python",
   "nbconvert_exporter": "python",
   "pygments_lexer": "ipython3",
   "version": "3.10.9"
  },
  "orig_nbformat": 4,
  "vscode": {
   "interpreter": {
    "hash": "b197f2d146ba9dade075c512c2d967b6caa99253af0cd5aa569ca8174c9a813e"
   }
  }
 },
 "nbformat": 4,
 "nbformat_minor": 2
}
