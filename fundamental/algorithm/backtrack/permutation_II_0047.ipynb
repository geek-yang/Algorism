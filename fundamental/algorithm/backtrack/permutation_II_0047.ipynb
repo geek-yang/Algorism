{
 "cells": [
  {
   "cell_type": "code",
   "execution_count": 40,
   "metadata": {},
   "outputs": [],
   "source": [
    "from typing import List"
   ]
  },
  {
   "cell_type": "code",
   "execution_count": 41,
   "metadata": {},
   "outputs": [],
   "source": [
    "class Solution:\n",
    "    def permuteUnique(self, nums: List[int]) -> List[List[int]]:\n",
    "        result = []\n",
    "        path = []\n",
    "        used = [0] * len(nums)\n",
    "\n",
    "        def backtrack(nums, used, path):\n",
    "            if len(path) == len(nums):\n",
    "                result.append(path[:])\n",
    "                return\n",
    "            \n",
    "            for i in range(len(nums)):\n",
    "                if not used[i]:\n",
    "                    if i > 0 and nums[i] == nums[i-1] and not used[i-1]:\n",
    "                        continue\n",
    "                    used[i] = 1\n",
    "                    path.append(nums[i])\n",
    "                    backtrack(nums, used, path)\n",
    "                    path.pop()\n",
    "                    used[i] = 0\n",
    "\n",
    "        backtrack(sorted(nums), used, path)\n",
    "\n",
    "        return result"
   ]
  },
  {
   "cell_type": "code",
   "execution_count": 42,
   "metadata": {},
   "outputs": [
    {
     "name": "stdout",
     "output_type": "stream",
     "text": [
      "[[1, 1, 2], [1, 2, 1], [2, 1, 1]]\n"
     ]
    }
   ],
   "source": [
    "nums = [1,1,2]\n",
    "\n",
    "solver = Solution()\n",
    "results = solver.permuteUnique(nums)\n",
    "print(results)"
   ]
  }
 ],
 "metadata": {
  "kernelspec": {
   "display_name": "Python 3.9.5 ('base')",
   "language": "python",
   "name": "python3"
  },
  "language_info": {
   "codemirror_mode": {
    "name": "ipython",
    "version": 3
   },
   "file_extension": ".py",
   "mimetype": "text/x-python",
   "name": "python",
   "nbconvert_exporter": "python",
   "pygments_lexer": "ipython3",
   "version": "3.9.5"
  },
  "orig_nbformat": 4,
  "vscode": {
   "interpreter": {
    "hash": "e7604e8ec5f09e490e10161e37a4725039efd3ab703d81b1b8a1e00d6741866c"
   }
  }
 },
 "nbformat": 4,
 "nbformat_minor": 2
}
