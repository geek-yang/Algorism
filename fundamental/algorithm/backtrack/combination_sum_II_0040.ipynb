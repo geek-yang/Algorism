{
 "cells": [
  {
   "cell_type": "code",
   "execution_count": 13,
   "metadata": {},
   "outputs": [],
   "source": [
    "from typing import List"
   ]
  },
  {
   "cell_type": "code",
   "execution_count": 14,
   "metadata": {},
   "outputs": [],
   "source": [
    "class Solution:\n",
    "    def combinationSum2(self, candidates: List[int], target: int) -> List[List[int]]:\n",
    "        self.results = []\n",
    "        self.path = []\n",
    "        # must sort for removing used elements\n",
    "        candidates.sort()\n",
    "\n",
    "        self.findCombinations(candidates, target, 0, 0)\n",
    "\n",
    "        return self.results\n",
    "\n",
    "    def findCombinations(self, candidates, target, sum, start):\n",
    "        if sum == target:\n",
    "            self.results.append(self.path[:])\n",
    "            return\n",
    "\n",
    "        for i in range(start, len(candidates)):\n",
    "            if sum + candidates[i] > target:\n",
    "                return\n",
    "            # remove used elements\n",
    "            if i > start and candidates[i] == candidates[i-1]:\n",
    "                continue\n",
    "            # calculate sum\n",
    "            sum += candidates[i]\n",
    "            self.path.append(candidates[i])\n",
    "            self.findCombinations(candidates, target, sum, i+1)\n",
    "            self.path.pop()\n",
    "            sum -= candidates[i]"
   ]
  },
  {
   "cell_type": "code",
   "execution_count": 15,
   "metadata": {},
   "outputs": [
    {
     "name": "stdout",
     "output_type": "stream",
     "text": [
      "[[1, 1, 6], [1, 2, 5], [1, 7], [2, 6]]\n"
     ]
    }
   ],
   "source": [
    "candidates = [10,1,2,7,6,1,5]\n",
    "target = 8\n",
    "\n",
    "solver = Solution()\n",
    "results = solver.combinationSum2(candidates, target)\n",
    "print(results)"
   ]
  },
  {
   "cell_type": "code",
   "execution_count": 16,
   "metadata": {},
   "outputs": [
    {
     "name": "stdout",
     "output_type": "stream",
     "text": [
      "[[1, 2, 2], [5]]\n"
     ]
    }
   ],
   "source": [
    "candidates = [2,5,2,1,2]\n",
    "target = 5\n",
    "\n",
    "solver = Solution()\n",
    "results = solver.combinationSum2(candidates, target)\n",
    "print(results)"
   ]
  }
 ],
 "metadata": {
  "kernelspec": {
   "display_name": "Python 3.9.5 ('base')",
   "language": "python",
   "name": "python3"
  },
  "language_info": {
   "codemirror_mode": {
    "name": "ipython",
    "version": 3
   },
   "file_extension": ".py",
   "mimetype": "text/x-python",
   "name": "python",
   "nbconvert_exporter": "python",
   "pygments_lexer": "ipython3",
   "version": "3.9.5"
  },
  "orig_nbformat": 4,
  "vscode": {
   "interpreter": {
    "hash": "e7604e8ec5f09e490e10161e37a4725039efd3ab703d81b1b8a1e00d6741866c"
   }
  }
 },
 "nbformat": 4,
 "nbformat_minor": 2
}
