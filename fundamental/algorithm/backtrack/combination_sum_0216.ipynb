{
 "cells": [
  {
   "cell_type": "code",
   "execution_count": 3,
   "metadata": {},
   "outputs": [],
   "source": [
    "from typing import List"
   ]
  },
  {
   "cell_type": "code",
   "execution_count": 4,
   "metadata": {},
   "outputs": [],
   "source": [
    "class Solution:\n",
    "    def combinationSum3(self, k: int, n: int) -> List[List[int]]:\n",
    "        self.results = []\n",
    "        self.numbers = []\n",
    "        self.findSum(k, n, 1)\n",
    "\n",
    "        return self.results\n",
    "\n",
    "    def findSum(self, k, n, start):\n",
    "        if len(self.numbers) == k:\n",
    "            if sum(self.numbers) == n:\n",
    "                self.results.append(self.numbers[:])\n",
    "            return\n",
    "\n",
    "        for i in range(start, 10):\n",
    "            self.numbers.append(i)\n",
    "            self.findSum(k, n, i+1)\n",
    "            self.numbers.pop()"
   ]
  },
  {
   "cell_type": "code",
   "execution_count": 6,
   "metadata": {},
   "outputs": [
    {
     "name": "stdout",
     "output_type": "stream",
     "text": [
      "[]\n"
     ]
    }
   ],
   "source": [
    "solver = Solution()\n",
    "\n",
    "k = 3\n",
    "n = 9\n",
    "\n",
    "results = solver.combinationSum3(k, n)\n",
    "print(results)"
   ]
  }
 ],
 "metadata": {
  "kernelspec": {
   "display_name": "Python 3.9.5 ('base')",
   "language": "python",
   "name": "python3"
  },
  "language_info": {
   "codemirror_mode": {
    "name": "ipython",
    "version": 3
   },
   "file_extension": ".py",
   "mimetype": "text/x-python",
   "name": "python",
   "nbconvert_exporter": "python",
   "pygments_lexer": "ipython3",
   "version": "3.9.5"
  },
  "orig_nbformat": 4,
  "vscode": {
   "interpreter": {
    "hash": "e7604e8ec5f09e490e10161e37a4725039efd3ab703d81b1b8a1e00d6741866c"
   }
  }
 },
 "nbformat": 4,
 "nbformat_minor": 2
}
