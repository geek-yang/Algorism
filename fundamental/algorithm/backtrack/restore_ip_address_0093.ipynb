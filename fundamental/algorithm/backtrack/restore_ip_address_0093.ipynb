{
 "cells": [
  {
   "cell_type": "code",
   "execution_count": 1,
   "metadata": {},
   "outputs": [],
   "source": [
    "from typing import List"
   ]
  },
  {
   "cell_type": "code",
   "execution_count": 2,
   "metadata": {},
   "outputs": [],
   "source": [
    "class Solution:\n",
    "    def restoreIpAddresses(self, s: str) -> List[str]:\n",
    "        self.address = []\n",
    "        self.path = []\n",
    "        self.length = 0\n",
    "        self.cut = 0\n",
    "        if len(s) < 4 or len(s) > 12:\n",
    "            return self.address\n",
    "\n",
    "        self.findIP(s)\n",
    "        \n",
    "        return self.address\n",
    "\n",
    "    def findIP(self, s):\n",
    "        if self.cut == 3:\n",
    "            if len(s) > 0 and len(s) <= 3 and int(s) <= 255:\n",
    "                if len(s) == 1:\n",
    "                    ip = self.s_to_ip(s)\n",
    "                    self.address.append(ip)\n",
    "                elif s[0] != \"0\":\n",
    "                    ip = self.s_to_ip(s)\n",
    "                    self.address.append(ip)\n",
    "            return\n",
    "\n",
    "        for i in range(3):\n",
    "            digits = s[:i+1]\n",
    "            if len(digits) == 0:\n",
    "                break\n",
    "            if len(digits) > 1 and digits[0] == \"0\":\n",
    "                break\n",
    "            if int(digits) > 255:\n",
    "                continue\n",
    "            self.path.append(digits)\n",
    "            self.cut += 1\n",
    "            self.findIP(s[i+1:])\n",
    "            self.path.pop()\n",
    "            self.cut -= 1\n",
    "\n",
    "    def s_to_ip(self, s):\n",
    "        ip = \"\"\n",
    "        for i in self.path:\n",
    "            ip = ip + str(i) + \".\"\n",
    "\n",
    "        return ip + s"
   ]
  },
  {
   "cell_type": "code",
   "execution_count": 3,
   "metadata": {},
   "outputs": [
    {
     "name": "stdout",
     "output_type": "stream",
     "text": [
      "['255.255.11.135', '255.255.111.35']\n"
     ]
    }
   ],
   "source": [
    "s = \"25525511135\"\n",
    "\n",
    "solver = Solution()\n",
    "address = solver.restoreIpAddresses(s)\n",
    "print(address)"
   ]
  },
  {
   "cell_type": "code",
   "execution_count": 4,
   "metadata": {},
   "outputs": [
    {
     "name": "stdout",
     "output_type": "stream",
     "text": [
      "['1.0.10.23', '1.0.102.3', '10.1.0.23', '10.10.2.3', '101.0.2.3']\n"
     ]
    }
   ],
   "source": [
    "s = \"101023\"\n",
    "address = solver.restoreIpAddresses(s)\n",
    "print(address)"
   ]
  }
 ],
 "metadata": {
  "kernelspec": {
   "display_name": "Python 3.9.5 ('base')",
   "language": "python",
   "name": "python3"
  },
  "language_info": {
   "codemirror_mode": {
    "name": "ipython",
    "version": 3
   },
   "file_extension": ".py",
   "mimetype": "text/x-python",
   "name": "python",
   "nbconvert_exporter": "python",
   "pygments_lexer": "ipython3",
   "version": "3.9.5"
  },
  "orig_nbformat": 4,
  "vscode": {
   "interpreter": {
    "hash": "e7604e8ec5f09e490e10161e37a4725039efd3ab703d81b1b8a1e00d6741866c"
   }
  }
 },
 "nbformat": 4,
 "nbformat_minor": 2
}
