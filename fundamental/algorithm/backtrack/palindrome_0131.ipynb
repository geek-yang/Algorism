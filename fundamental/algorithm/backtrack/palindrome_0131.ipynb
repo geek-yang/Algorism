{
 "cells": [
  {
   "cell_type": "code",
   "execution_count": 4,
   "metadata": {},
   "outputs": [],
   "source": [
    "from typing import List"
   ]
  },
  {
   "cell_type": "code",
   "execution_count": 5,
   "metadata": {},
   "outputs": [],
   "source": [
    "class Solution:\n",
    "    def partition(self, s: str) -> List[List[str]]:\n",
    "        self.results = []\n",
    "        self.path = []\n",
    "\n",
    "        self.backtrack(s, 0)\n",
    "        \n",
    "        return self.results\n",
    "\n",
    "    def backtrack(self, s, start):\n",
    "        if start >=len(s):\n",
    "            self.results.append(self.path[:])\n",
    "\n",
    "        for i in range(start, len(s)): # indexing is slicing\n",
    "            string = s[start:i+1]\n",
    "            if self.palindrome(string):\n",
    "                self.path.append(string)\n",
    "                self.backtrack(s, i+1)\n",
    "                self.path.pop()\n",
    "            else:\n",
    "                continue\n",
    "\n",
    "    def palindrome(self, string):\n",
    "        start = 0\n",
    "        end = len(string) - 1\n",
    "        while start < end:\n",
    "            if string[start] != string[end]:\n",
    "                return False\n",
    "            start += 1\n",
    "            end -= 1\n",
    "\n",
    "        return True\n"
   ]
  },
  {
   "cell_type": "code",
   "execution_count": 6,
   "metadata": {},
   "outputs": [
    {
     "name": "stdout",
     "output_type": "stream",
     "text": [
      "[['a', 'a', 'b'], ['aa', 'b']]\n"
     ]
    }
   ],
   "source": [
    "solver = Solution()\n",
    "s = \"aab\"\n",
    "results = solver.partition(s)\n",
    "print(results)"
   ]
  }
 ],
 "metadata": {
  "kernelspec": {
   "display_name": "Python 3.9.5 ('base')",
   "language": "python",
   "name": "python3"
  },
  "language_info": {
   "codemirror_mode": {
    "name": "ipython",
    "version": 3
   },
   "file_extension": ".py",
   "mimetype": "text/x-python",
   "name": "python",
   "nbconvert_exporter": "python",
   "pygments_lexer": "ipython3",
   "version": "3.9.5"
  },
  "orig_nbformat": 4,
  "vscode": {
   "interpreter": {
    "hash": "e7604e8ec5f09e490e10161e37a4725039efd3ab703d81b1b8a1e00d6741866c"
   }
  }
 },
 "nbformat": 4,
 "nbformat_minor": 2
}
