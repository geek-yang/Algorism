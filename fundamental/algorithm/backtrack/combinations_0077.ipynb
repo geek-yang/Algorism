{
 "cells": [
  {
   "cell_type": "code",
   "execution_count": 10,
   "metadata": {},
   "outputs": [],
   "source": [
    "from typing import List"
   ]
  },
  {
   "cell_type": "code",
   "execution_count": 11,
   "metadata": {},
   "outputs": [],
   "source": [
    "class Solution:\n",
    "    def combine(self, n: int, k: int) -> List[List[int]]:\n",
    "        self.results = []\n",
    "        self.combination = []\n",
    "        self.findCombination(n+1, k, 1)\n",
    "\n",
    "        return self.results\n",
    "\n",
    "    def findCombination(self, n, k, start):\n",
    "        if len(self.combination) == k:\n",
    "            self.results.append(self.combination[:])\n",
    "            return\n",
    "\n",
    "        for i in range(start, n):\n",
    "            self.combination.append(i)\n",
    "            self.findCombination(n, k, i+1)\n",
    "            self.combination.pop()"
   ]
  },
  {
   "cell_type": "code",
   "execution_count": 13,
   "metadata": {},
   "outputs": [
    {
     "name": "stdout",
     "output_type": "stream",
     "text": [
      "[[1, 2], [1, 3], [1, 4], [2, 3], [2, 4], [3, 4]]\n",
      "[[1]]\n"
     ]
    }
   ],
   "source": [
    "solver = Solution()\n",
    "n = 4\n",
    "k = 2\n",
    "\n",
    "results = solver.combine(n, k)\n",
    "print(results)\n",
    "\n",
    "n = 1\n",
    "k = 1\n",
    "\n",
    "results = solver.combine(n, k)\n",
    "print(results)"
   ]
  }
 ],
 "metadata": {
  "kernelspec": {
   "display_name": "Python 3.9.5 ('base')",
   "language": "python",
   "name": "python3"
  },
  "language_info": {
   "codemirror_mode": {
    "name": "ipython",
    "version": 3
   },
   "file_extension": ".py",
   "mimetype": "text/x-python",
   "name": "python",
   "nbconvert_exporter": "python",
   "pygments_lexer": "ipython3",
   "version": "3.9.5"
  },
  "orig_nbformat": 4,
  "vscode": {
   "interpreter": {
    "hash": "e7604e8ec5f09e490e10161e37a4725039efd3ab703d81b1b8a1e00d6741866c"
   }
  }
 },
 "nbformat": 4,
 "nbformat_minor": 2
}
