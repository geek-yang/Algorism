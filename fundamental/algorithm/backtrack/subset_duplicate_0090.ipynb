{
 "cells": [
  {
   "cell_type": "code",
   "execution_count": 24,
   "metadata": {},
   "outputs": [],
   "source": [
    "from typing import List"
   ]
  },
  {
   "cell_type": "code",
   "execution_count": 25,
   "metadata": {},
   "outputs": [],
   "source": [
    "class Solution:\n",
    "    def subsetsWithDup(self, nums: List[int]) -> List[List[int]]:\n",
    "        self.results = []\n",
    "        self.path = []\n",
    "        nums.sort()\n",
    "        self.backtrack(nums, 0)\n",
    "\n",
    "        return self.results\n",
    "\n",
    "    def backtrack(self, nums, start):\n",
    "        self.results.append(self.path[:])\n",
    "        if start == len(nums):\n",
    "            return\n",
    "\n",
    "        for i in range(start, len(nums)):\n",
    "            # remove duplicate in breath, but not in depth\n",
    "            if i > start and nums[i] == nums[i-1]:\n",
    "                continue\n",
    "            self.path.append(nums[i])\n",
    "            self.backtrack(nums, i+1)\n",
    "            self.path.pop()"
   ]
  },
  {
   "cell_type": "code",
   "execution_count": 26,
   "metadata": {},
   "outputs": [
    {
     "name": "stdout",
     "output_type": "stream",
     "text": [
      "[[], [1], [1, 2], [1, 2, 2], [2], [2, 2]]\n"
     ]
    }
   ],
   "source": [
    "nums = [1,2,2]\n",
    "\n",
    "solver = Solution()\n",
    "results = solver.subsetsWithDup(nums)\n",
    "print(results)"
   ]
  },
  {
   "cell_type": "code",
   "execution_count": 27,
   "metadata": {},
   "outputs": [
    {
     "name": "stdout",
     "output_type": "stream",
     "text": [
      "[[], [0]]\n"
     ]
    }
   ],
   "source": [
    "nums = [0]\n",
    "\n",
    "results = solver.subsetsWithDup(nums)\n",
    "print(results)"
   ]
  }
 ],
 "metadata": {
  "kernelspec": {
   "display_name": "Python 3.9.5 ('base')",
   "language": "python",
   "name": "python3"
  },
  "language_info": {
   "codemirror_mode": {
    "name": "ipython",
    "version": 3
   },
   "file_extension": ".py",
   "mimetype": "text/x-python",
   "name": "python",
   "nbconvert_exporter": "python",
   "pygments_lexer": "ipython3",
   "version": "3.9.5"
  },
  "orig_nbformat": 4,
  "vscode": {
   "interpreter": {
    "hash": "e7604e8ec5f09e490e10161e37a4725039efd3ab703d81b1b8a1e00d6741866c"
   }
  }
 },
 "nbformat": 4,
 "nbformat_minor": 2
}
