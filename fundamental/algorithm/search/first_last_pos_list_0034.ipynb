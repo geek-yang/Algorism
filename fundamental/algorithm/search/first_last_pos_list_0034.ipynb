{
 "cells": [
  {
   "cell_type": "code",
   "execution_count": 19,
   "metadata": {},
   "outputs": [],
   "source": [
    "from typing import List"
   ]
  },
  {
   "cell_type": "code",
   "execution_count": 20,
   "metadata": {},
   "outputs": [],
   "source": [
    "class Solution:\n",
    "    def searchRange(self, nums: List[int], target: int) -> List[int]:\n",
    "        left, right = 0, len(nums) - 1\n",
    "        \n",
    "        left_border = self.left_border(left, right, nums, target)\n",
    "        right_border = self.right_border(left, right, nums, target)\n",
    "\n",
    "        if left_border == -2 or right_border == -2: return [-1, -1]\n",
    "        if (right_border -left_border) > 1: return [left_border + 1, right_border - 1]\n",
    "        return [-1, -1]\n",
    "\n",
    "    def left_border(self, left, right, nums, target):\n",
    "        # find the left most position of target\n",
    "        left_b = -2\n",
    "        while left <= right:\n",
    "            mid = (right + left) // 2\n",
    "            if nums[mid] >= target:\n",
    "                right = mid - 1\n",
    "                left_b = right\n",
    "            else:\n",
    "                left = mid + 1\n",
    "                \n",
    "        return left_b\n",
    "    \n",
    "    def right_border(self, left, right, nums, target):\n",
    "        # find the right most position of target\n",
    "        right_b = -2\n",
    "        while left <= right:\n",
    "            mid = (right + left) // 2\n",
    "            if nums[mid] > target:\n",
    "                right = mid - 1\n",
    "            else:\n",
    "                left = mid + 1\n",
    "                right_b = left\n",
    "            \n",
    "        return right_b"
   ]
  },
  {
   "cell_type": "code",
   "execution_count": 21,
   "metadata": {},
   "outputs": [
    {
     "name": "stdout",
     "output_type": "stream",
     "text": [
      "[3, 4]\n"
     ]
    }
   ],
   "source": [
    "nums = [5,7,7,8,8,10]\n",
    "target = 8\n",
    "\n",
    "solver = Solution()\n",
    "results = solver.searchRange(nums, target)\n",
    "print(results)"
   ]
  },
  {
   "cell_type": "code",
   "execution_count": 22,
   "metadata": {},
   "outputs": [
    {
     "name": "stdout",
     "output_type": "stream",
     "text": [
      "[-1, -1]\n"
     ]
    }
   ],
   "source": [
    "nums = [5,7,7,8,8,10]\n",
    "target = 6\n",
    "results = solver.searchRange(nums, target)\n",
    "print(results)"
   ]
  }
 ],
 "metadata": {
  "kernelspec": {
   "display_name": "Python 3.9.5 ('base')",
   "language": "python",
   "name": "python3"
  },
  "language_info": {
   "codemirror_mode": {
    "name": "ipython",
    "version": 3
   },
   "file_extension": ".py",
   "mimetype": "text/x-python",
   "name": "python",
   "nbconvert_exporter": "python",
   "pygments_lexer": "ipython3",
   "version": "3.9.5"
  },
  "orig_nbformat": 4,
  "vscode": {
   "interpreter": {
    "hash": "e7604e8ec5f09e490e10161e37a4725039efd3ab703d81b1b8a1e00d6741866c"
   }
  }
 },
 "nbformat": 4,
 "nbformat_minor": 2
}
