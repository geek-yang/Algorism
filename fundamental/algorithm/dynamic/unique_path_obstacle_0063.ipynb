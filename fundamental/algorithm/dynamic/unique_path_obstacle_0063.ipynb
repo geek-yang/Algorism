{
 "cells": [
  {
   "cell_type": "code",
   "execution_count": 12,
   "metadata": {},
   "outputs": [],
   "source": [
    "from typing import List"
   ]
  },
  {
   "cell_type": "code",
   "execution_count": 13,
   "metadata": {},
   "outputs": [],
   "source": [
    "class Solution:\n",
    "    def uniquePathsWithObstacles(self, obstacleGrid: List[List[int]]) -> int:\n",
    "        m = len(obstacleGrid[0][:])\n",
    "        n = len(obstacleGrid)\n",
    "\n",
    "        dp = [[0 for i in range(m)] for j in range(n)]\n",
    "        # first row\n",
    "        for i in range(m):\n",
    "            if obstacleGrid[0][i] == 1:\n",
    "                for j in range(i, m):\n",
    "                    dp[0][j] = 0\n",
    "                break\n",
    "            else:\n",
    "                dp[0][i] = 1\n",
    "        \n",
    "        # first column\n",
    "        for i in range(n):\n",
    "            if obstacleGrid[i][0] == 1:\n",
    "                for j in range(i, n):\n",
    "                    dp[j][0] = 0\n",
    "                break\n",
    "            else:\n",
    "                dp[i][0] = 1\n",
    "\n",
    "        for i in range(1, m):\n",
    "            for j in range(1, n):\n",
    "                if obstacleGrid[j][i] == 1:\n",
    "                    continue\n",
    "                else:\n",
    "                    dp[j][i] = dp[j-1][i] + dp[j][i-1]\n",
    "\n",
    "        return dp[n-1][m-1]"
   ]
  },
  {
   "cell_type": "code",
   "execution_count": 14,
   "metadata": {},
   "outputs": [
    {
     "name": "stdout",
     "output_type": "stream",
     "text": [
      "2\n"
     ]
    }
   ],
   "source": [
    "obstacleGrid = [[0,0,0],[0,1,0],[0,0,0]]\n",
    "\n",
    "solver = Solution()\n",
    "result = solver.uniquePathsWithObstacles(obstacleGrid)\n",
    "print(result)"
   ]
  },
  {
   "cell_type": "code",
   "execution_count": 15,
   "metadata": {},
   "outputs": [
    {
     "name": "stdout",
     "output_type": "stream",
     "text": [
      "1\n"
     ]
    }
   ],
   "source": [
    "obstacleGrid = [[0,1],[0,0]]\n",
    "result = solver.uniquePathsWithObstacles(obstacleGrid)\n",
    "print(result)"
   ]
  }
 ],
 "metadata": {
  "kernelspec": {
   "display_name": "Python 3.9.5 ('base')",
   "language": "python",
   "name": "python3"
  },
  "language_info": {
   "codemirror_mode": {
    "name": "ipython",
    "version": 3
   },
   "file_extension": ".py",
   "mimetype": "text/x-python",
   "name": "python",
   "nbconvert_exporter": "python",
   "pygments_lexer": "ipython3",
   "version": "3.9.5"
  },
  "orig_nbformat": 4,
  "vscode": {
   "interpreter": {
    "hash": "e7604e8ec5f09e490e10161e37a4725039efd3ab703d81b1b8a1e00d6741866c"
   }
  }
 },
 "nbformat": 4,
 "nbformat_minor": 2
}
