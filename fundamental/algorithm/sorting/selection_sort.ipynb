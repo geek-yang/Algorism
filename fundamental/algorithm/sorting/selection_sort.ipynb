{
 "cells": [
  {
   "attachments": {},
   "cell_type": "markdown",
   "metadata": {},
   "source": [
    "#### Selection sort\n",
    "This sorting technique repeatedly finds the minimum element and sort it in order. <br>\n",
    "During the execution of this algorithm, two subarrays are maintained, the subarray which is already sorted, and the remaining subarray which is unsorted. <br>\n",
    "\n",
    "Time complexity: O(n^2)\n",
    "\n",
    "Space complexity: O(1)\n",
    "\n",
    "Selection Sort is a more efficient algorithm than bubble sort.<br>\n",
    "\n",
    "For more explanation, see https://www.geeksforgeeks.org/sorting-algorithms-in-python/"
   ]
  },
  {
   "cell_type": "code",
   "execution_count": 2,
   "metadata": {},
   "outputs": [],
   "source": [
    "def selection_sort(array):\n",
    "    n = len(array)\n",
    "    for s in range(n):\n",
    "        min_idx = s\n",
    "        for i in range(s+1, n):\n",
    "            if array[i] < array[s]:\n",
    "                min_idx = i\n",
    "        \n",
    "        array[s], array[min_idx] = array[min_idx], array[s]"
   ]
  },
  {
   "cell_type": "markdown",
   "metadata": {},
   "source": [
    "Now let's try to run a testing case."
   ]
  },
  {
   "cell_type": "code",
   "execution_count": 3,
   "metadata": {},
   "outputs": [
    {
     "name": "stdout",
     "output_type": "stream",
     "text": [
      "[1, 2, 10, 23]\n"
     ]
    }
   ],
   "source": [
    "array = [2, 10, 23, 1]\n",
    "selection_sort(array)\n",
    "print(array)"
   ]
  }
 ],
 "metadata": {
  "kernelspec": {
   "display_name": "Python 3",
   "language": "python",
   "name": "python3"
  },
  "language_info": {
   "codemirror_mode": {
    "name": "ipython",
    "version": 3
   },
   "file_extension": ".py",
   "mimetype": "text/x-python",
   "name": "python",
   "nbconvert_exporter": "python",
   "pygments_lexer": "ipython3",
   "version": "3.10.9"
  },
  "orig_nbformat": 4,
  "vscode": {
   "interpreter": {
    "hash": "b197f2d146ba9dade075c512c2d967b6caa99253af0cd5aa569ca8174c9a813e"
   }
  }
 },
 "nbformat": 4,
 "nbformat_minor": 2
}
