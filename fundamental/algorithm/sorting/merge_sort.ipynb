{
 "cells": [
  {
   "attachments": {},
   "cell_type": "markdown",
   "metadata": {},
   "source": [
    "#### Merge sort\n",
    "Merge sort is a divide and conquer algorithm. It divides input array in two halves. The merge() function is used for merging two halves. <br>\n",
    "\n",
    "Time complexity:\n",
    "- worst case O(nlogn)\n",
    "- best/average case O(nlogn)\n",
    "\n",
    "Space complexity: O(n)\n",
    "\n",
    "For more explanation, see https://www.geeksforgeeks.org/python-program-for-merge-sort/\n",
    "\n",
    "![mergesort](../../asset/mergesort.png)\n",
    "(source: https://www.geeksforgeeks.org/quick-sort/)\n"
   ]
  },
  {
   "cell_type": "code",
   "execution_count": null,
   "metadata": {},
   "outputs": [],
   "source": []
  },
  {
   "cell_type": "markdown",
   "metadata": {},
   "source": [
    "Now let's try to run a testing case."
   ]
  },
  {
   "cell_type": "code",
   "execution_count": null,
   "metadata": {},
   "outputs": [],
   "source": []
  }
 ],
 "metadata": {
  "kernelspec": {
   "display_name": "Python 3",
   "language": "python",
   "name": "python3"
  },
  "language_info": {
   "name": "python",
   "version": "3.10.9"
  },
  "orig_nbformat": 4,
  "vscode": {
   "interpreter": {
    "hash": "b197f2d146ba9dade075c512c2d967b6caa99253af0cd5aa569ca8174c9a813e"
   }
  }
 },
 "nbformat": 4,
 "nbformat_minor": 2
}
