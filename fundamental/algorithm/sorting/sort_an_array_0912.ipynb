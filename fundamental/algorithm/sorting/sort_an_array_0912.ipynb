{
 "cells": [
  {
   "cell_type": "markdown",
   "metadata": {},
   "source": [
    "Leetcode question 912 <br>\n",
    "https://leetcode.com/problems/sort-an-array/"
   ]
  },
  {
   "cell_type": "code",
   "execution_count": 5,
   "metadata": {},
   "outputs": [],
   "source": [
    "class Solution:\n",
    "    def sortArray(self, nums: list[int]) -> list[int]:\n",
    "        # use quick sort will time out\n",
    "        self.quick_sort(nums, 0, len(nums)-1)\n",
    "\n",
    "        return nums\n",
    "    \n",
    "    # quick sort\n",
    "    def quick_sort(self, nums, low, high):\n",
    "        if low < high:\n",
    "            pi = self.partition(nums, low, high)\n",
    "            self.quick_sort(nums, low, pi-1)\n",
    "            self.quick_sort(nums, pi+1, high)\n",
    "        \n",
    "    def partition(self, nums, low, high):\n",
    "        # choose the last element as pivot\n",
    "        pivot = nums[high]\n",
    "        # init pointer for high value\n",
    "        i = low - 1\n",
    "        \n",
    "        for j in range(low, high):\n",
    "            if nums[j] <= pivot:\n",
    "                i += 1\n",
    "                nums[i], nums[j] = nums[j], nums[i]\n",
    "        \n",
    "        # put pivot to the right location\n",
    "        nums[i+1], nums[high] = nums[high], nums[i+1]\n",
    "\n",
    "        return i+1"
   ]
  },
  {
   "cell_type": "code",
   "execution_count": 6,
   "metadata": {},
   "outputs": [],
   "source": [
    "class Solution:\n",
    "    def sortArray(self, nums: list[int]) -> list[int]:\n",
    "        # use merge sort can pass\n",
    "        self.merge_sort(nums, 0, len(nums)-1)\n",
    "\n",
    "        return nums\n",
    "    \n",
    "    def merge_sort(self, arr, l, r):\n",
    "        if l < r:\n",
    "    \n",
    "            # Same as (l+r)//2, but avoids overflow for\n",
    "            # large l and h\n",
    "            m = l+(r-l)//2\n",
    "    \n",
    "            # Sort first and second halves\n",
    "            self.merge_sort(arr, l, m)\n",
    "            self.merge_sort(arr, m+1, r)\n",
    "            self.merge(arr, l, m, r)\n",
    "\n",
    "    def merge(self, arr, l, m, r):\n",
    "        n1 = m - l + 1\n",
    "        n2 = r - m\n",
    "    \n",
    "        # create temp arrays\n",
    "        L = [0] * (n1)\n",
    "        R = [0] * (n2)\n",
    "\n",
    "        # Copy data to temp arrays L[] and R[]\n",
    "        for i in range(0, n1):\n",
    "            L[i] = arr[l + i]\n",
    "    \n",
    "        for j in range(0, n2):\n",
    "            R[j] = arr[m + 1 + j]\n",
    "        \n",
    "        # Merge the temp arrays back into arr[l..r]\n",
    "        i = 0     # Initial index of first subarray\n",
    "        j = 0     # Initial index of second subarray\n",
    "        k = l     # Initial index of merged subarray\n",
    "    \n",
    "        while i < n1 and j < n2:\n",
    "            if L[i] <= R[j]:\n",
    "                arr[k] = L[i]\n",
    "                i += 1\n",
    "            else:\n",
    "                arr[k] = R[j]\n",
    "                j += 1\n",
    "            k += 1\n",
    "\n",
    "        # Copy the remaining elements of L[], if there\n",
    "        # are any\n",
    "        while i < n1:\n",
    "            arr[k] = L[i]\n",
    "            i += 1\n",
    "            k += 1\n",
    "    \n",
    "        # Copy the remaining elements of R[], if there\n",
    "        # are any\n",
    "        while j < n2:\n",
    "            arr[k] = R[j]\n",
    "            j += 1\n",
    "            k += 1"
   ]
  },
  {
   "attachments": {},
   "cell_type": "markdown",
   "metadata": {},
   "source": [
    "Time complexity: O(nlogn) <br>\n",
    "Space complexity: O(n) <br>\n",
    "\n",
    "Next let's run some test cases."
   ]
  },
  {
   "cell_type": "code",
   "execution_count": 7,
   "metadata": {},
   "outputs": [
    {
     "data": {
      "text/plain": [
       "[0, 0, 1, 1, 2, 5]"
      ]
     },
     "execution_count": 7,
     "metadata": {},
     "output_type": "execute_result"
    }
   ],
   "source": [
    "nums = [5,1,1,2,0,0]\n",
    "solution = Solution()\n",
    "solution.sortArray(nums)"
   ]
  }
 ],
 "metadata": {
  "kernelspec": {
   "display_name": "Python 3",
   "language": "python",
   "name": "python3"
  },
  "language_info": {
   "codemirror_mode": {
    "name": "ipython",
    "version": 3
   },
   "file_extension": ".py",
   "mimetype": "text/x-python",
   "name": "python",
   "nbconvert_exporter": "python",
   "pygments_lexer": "ipython3",
   "version": "3.10.9"
  },
  "orig_nbformat": 4,
  "vscode": {
   "interpreter": {
    "hash": "b197f2d146ba9dade075c512c2d967b6caa99253af0cd5aa569ca8174c9a813e"
   }
  }
 },
 "nbformat": 4,
 "nbformat_minor": 2
}
