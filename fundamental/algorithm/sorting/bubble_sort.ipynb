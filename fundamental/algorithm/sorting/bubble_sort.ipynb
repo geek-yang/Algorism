{
 "cells": [
  {
   "attachments": {},
   "cell_type": "markdown",
   "metadata": {},
   "source": [
    "#### Bubble sort\n",
    "Compares two adjacent elements and swaps them if they are in the wrong order. <br>\n",
    "Time complexity:\n",
    "- worst case O(n^2)\n",
    "- best case O(n)\n",
    "\n",
    "Space complexity: O(1)\n",
    "\n",
    "For more explanation, see https://www.geeksforgeeks.org/sorting-algorithms-in-python/"
   ]
  },
  {
   "cell_type": "code",
   "execution_count": 1,
   "metadata": {},
   "outputs": [],
   "source": [
    "def bubble_sort(array):\n",
    "    n = len(array)\n",
    "\n",
    "    for i in range(n):\n",
    "        for j in range(0, n - i - 1):\n",
    "            if array[j] > array[j+1]:\n",
    "                array[j], array[j+1] = array[j+1], array[j]"
   ]
  },
  {
   "cell_type": "markdown",
   "metadata": {},
   "source": [
    "Now let's try to run a testing case."
   ]
  },
  {
   "cell_type": "code",
   "execution_count": 3,
   "metadata": {},
   "outputs": [
    {
     "name": "stdout",
     "output_type": "stream",
     "text": [
      "[1, 2, 10, 23]\n"
     ]
    }
   ],
   "source": [
    "array = [2, 10, 23, 1]\n",
    "bubble_sort(array)\n",
    "print(array)"
   ]
  }
 ],
 "metadata": {
  "kernelspec": {
   "display_name": "Python 3",
   "language": "python",
   "name": "python3"
  },
  "language_info": {
   "codemirror_mode": {
    "name": "ipython",
    "version": 3
   },
   "file_extension": ".py",
   "mimetype": "text/x-python",
   "name": "python",
   "nbconvert_exporter": "python",
   "pygments_lexer": "ipython3",
   "version": "3.10.9"
  },
  "orig_nbformat": 4,
  "vscode": {
   "interpreter": {
    "hash": "b197f2d146ba9dade075c512c2d967b6caa99253af0cd5aa569ca8174c9a813e"
   }
  }
 },
 "nbformat": 4,
 "nbformat_minor": 2
}
