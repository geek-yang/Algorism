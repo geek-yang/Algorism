{
 "cells": [
  {
   "attachments": {},
   "cell_type": "markdown",
   "metadata": {},
   "source": [
    "Leetcode question 981 <br>\n",
    "https://leetcode.com/problems/time-based-key-value-store/"
   ]
  },
  {
   "cell_type": "code",
   "execution_count": 9,
   "metadata": {},
   "outputs": [],
   "source": [
    "class TimeMap:\n",
    "    def __init__(self):\n",
    "        self.records = {}\n",
    "        \n",
    "    def set(self, key: str, value: str, timestamp: int) -> None:\n",
    "        if key in self.records:\n",
    "            self.records[key].append((value, timestamp))\n",
    "        else:\n",
    "            self.records[key] = [(value, timestamp)]\n",
    "\n",
    "        \n",
    "    def get(self, key: str, timestamp: int) -> str:\n",
    "        if not key in self.records:\n",
    "            return \"\"\n",
    "        else:\n",
    "            # use binary search to accelerate\n",
    "            record = self.records[key]\n",
    "            left = 0\n",
    "            right = len(record) - 1\n",
    "            result = \"\"\n",
    "            while left <= right:\n",
    "                mid = (right - left) // 2 + left\n",
    "                if record[mid][1] <= timestamp:\n",
    "                    result = record[mid][0]\n",
    "                    left = mid + 1\n",
    "                else:\n",
    "                    right = mid - 1\n",
    "\n",
    "        return result"
   ]
  },
  {
   "cell_type": "markdown",
   "metadata": {},
   "source": [
    "Time complexity: O(log n) <br>\n",
    "Space complexity: O(1) <br>\n",
    "\n",
    "Next let's run some test cases."
   ]
  },
  {
   "cell_type": "code",
   "execution_count": 10,
   "metadata": {},
   "outputs": [
    {
     "data": {
      "text/plain": [
       "'bar'"
      ]
     },
     "execution_count": 10,
     "metadata": {},
     "output_type": "execute_result"
    }
   ],
   "source": [
    "solution = TimeMap()\n",
    "solution.set(\"foo\", \"bar\", 1)\n",
    "solution.get(\"foo\", 1)"
   ]
  }
 ],
 "metadata": {
  "kernelspec": {
   "display_name": "Python 3",
   "language": "python",
   "name": "python3"
  },
  "language_info": {
   "codemirror_mode": {
    "name": "ipython",
    "version": 3
   },
   "file_extension": ".py",
   "mimetype": "text/x-python",
   "name": "python",
   "nbconvert_exporter": "python",
   "pygments_lexer": "ipython3",
   "version": "3.10.9"
  },
  "orig_nbformat": 4,
  "vscode": {
   "interpreter": {
    "hash": "b197f2d146ba9dade075c512c2d967b6caa99253af0cd5aa569ca8174c9a813e"
   }
  }
 },
 "nbformat": 4,
 "nbformat_minor": 2
}
