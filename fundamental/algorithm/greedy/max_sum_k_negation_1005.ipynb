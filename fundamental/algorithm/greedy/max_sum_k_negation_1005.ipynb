{
 "cells": [
  {
   "cell_type": "code",
   "execution_count": 15,
   "metadata": {},
   "outputs": [],
   "source": [
    "from typing import List"
   ]
  },
  {
   "cell_type": "code",
   "execution_count": 16,
   "metadata": {},
   "outputs": [],
   "source": [
    "class Solution:\n",
    "    def largestSumAfterKNegations(self, nums: List[int], k: int) -> int:\n",
    "        # sort list\n",
    "        nums.sort()\n",
    "        i = 0\n",
    "        # flip negative value\n",
    "        while i < len(nums) and nums[i] < 0 and k > 0:\n",
    "            nums[i] = -nums[i]\n",
    "            k -= 1\n",
    "            i += 1\n",
    "        # flip positive value\n",
    "        if k % 2 == 1:\n",
    "            nums.sort()\n",
    "            nums[0] = -nums[0]\n",
    "\n",
    "        return sum(nums)"
   ]
  },
  {
   "cell_type": "code",
   "execution_count": 17,
   "metadata": {},
   "outputs": [
    {
     "name": "stdout",
     "output_type": "stream",
     "text": [
      "5\n"
     ]
    }
   ],
   "source": [
    "nums = [4,2,3]\n",
    "k = 1\n",
    "\n",
    "solver = Solution()\n",
    "result = solver.largestSumAfterKNegations(nums, k)\n",
    "print(result)"
   ]
  },
  {
   "cell_type": "code",
   "execution_count": 18,
   "metadata": {},
   "outputs": [
    {
     "name": "stdout",
     "output_type": "stream",
     "text": [
      "6\n"
     ]
    }
   ],
   "source": [
    "nums = [3,-1,0,2]\n",
    "k = 3\n",
    "\n",
    "result = solver.largestSumAfterKNegations(nums, k)\n",
    "print(result)"
   ]
  }
 ],
 "metadata": {
  "kernelspec": {
   "display_name": "Python 3.9.5 ('base')",
   "language": "python",
   "name": "python3"
  },
  "language_info": {
   "codemirror_mode": {
    "name": "ipython",
    "version": 3
   },
   "file_extension": ".py",
   "mimetype": "text/x-python",
   "name": "python",
   "nbconvert_exporter": "python",
   "pygments_lexer": "ipython3",
   "version": "3.9.5"
  },
  "orig_nbformat": 4,
  "vscode": {
   "interpreter": {
    "hash": "e7604e8ec5f09e490e10161e37a4725039efd3ab703d81b1b8a1e00d6741866c"
   }
  }
 },
 "nbformat": 4,
 "nbformat_minor": 2
}
