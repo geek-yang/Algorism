{
 "cells": [
  {
   "cell_type": "code",
   "execution_count": 4,
   "metadata": {},
   "outputs": [],
   "source": [
    "from typing import List"
   ]
  },
  {
   "cell_type": "code",
   "execution_count": 5,
   "metadata": {},
   "outputs": [],
   "source": [
    "class Solution:\n",
    "    def canJump(self, nums: List[int]) -> bool:\n",
    "        # just need to make sure we can jump over all zeros\n",
    "        if nums[0] == 0 and len(nums) == 1:\n",
    "            return True\n",
    "        if nums[0] == 0:\n",
    "            return False\n",
    "        for i in range(1, len(nums) - 1):\n",
    "            if nums[i] == 0:\n",
    "                checker = 0\n",
    "                for j in range(i):\n",
    "                    if nums[j] > i-j: # make sure it can jump over 0\n",
    "                        checker += 1\n",
    "                if checker == 0:\n",
    "                    return False\n",
    "        \n",
    "        return True"
   ]
  },
  {
   "cell_type": "code",
   "execution_count": null,
   "metadata": {},
   "outputs": [],
   "source": [
    "# optimal solution\n",
    "class Solution:\n",
    "    def canJump(self, nums: List[int]) -> bool:\n",
    "        cover = 0\n",
    "        if len(nums) == 1: return True\n",
    "        i = 0\n",
    "        # python不支持动态修改for循环中变量,使用while循环代替\n",
    "        while i <= cover:\n",
    "            cover = max(i + nums[i], cover)\n",
    "            if cover >= len(nums) - 1: return True\n",
    "            i += 1\n",
    "        return False"
   ]
  },
  {
   "cell_type": "code",
   "execution_count": 6,
   "metadata": {},
   "outputs": [
    {
     "name": "stdout",
     "output_type": "stream",
     "text": [
      "True\n"
     ]
    }
   ],
   "source": [
    "nums = [2,3,1,1,4]\n",
    "\n",
    "solver = Solution()\n",
    "jump = solver.canJump(nums)\n",
    "print(jump)"
   ]
  },
  {
   "cell_type": "code",
   "execution_count": 7,
   "metadata": {},
   "outputs": [
    {
     "name": "stdout",
     "output_type": "stream",
     "text": [
      "False\n"
     ]
    }
   ],
   "source": [
    "nums = [3,2,1,0,4]\n",
    "jump = solver.canJump(nums)\n",
    "print(jump)"
   ]
  }
 ],
 "metadata": {
  "kernelspec": {
   "display_name": "Python 3.9.5 ('base')",
   "language": "python",
   "name": "python3"
  },
  "language_info": {
   "codemirror_mode": {
    "name": "ipython",
    "version": 3
   },
   "file_extension": ".py",
   "mimetype": "text/x-python",
   "name": "python",
   "nbconvert_exporter": "python",
   "pygments_lexer": "ipython3",
   "version": "3.9.5"
  },
  "orig_nbformat": 4,
  "vscode": {
   "interpreter": {
    "hash": "e7604e8ec5f09e490e10161e37a4725039efd3ab703d81b1b8a1e00d6741866c"
   }
  }
 },
 "nbformat": 4,
 "nbformat_minor": 2
}
