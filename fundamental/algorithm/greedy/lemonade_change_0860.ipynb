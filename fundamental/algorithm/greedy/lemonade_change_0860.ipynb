{
 "cells": [
  {
   "cell_type": "markdown",
   "metadata": {},
   "source": [
    "Leetcode question 860 <br>\n",
    "https://leetcode.com/problems/lemonade-change/"
   ]
  },
  {
   "cell_type": "code",
   "execution_count": 1,
   "metadata": {},
   "outputs": [],
   "source": [
    "class Solution:\n",
    "    def lemonadeChange(self, bills: list[int]) -> bool:\n",
    "        pocket = [0] * 2 # only need to know note 5 and 10\n",
    "        for bill in bills:\n",
    "            if bill == 5:\n",
    "                pocket[0] += 1\n",
    "            elif bill == 10:\n",
    "                pocket[1] += 1\n",
    "                pocket[0] -= 1\n",
    "            elif bill == 20:\n",
    "                if pocket[1] > 0:\n",
    "                    pocket[1] -= 1\n",
    "                    pocket[0] -= 1\n",
    "                else:\n",
    "                    pocket[0] -= 3\n",
    "            # check if either 5 or 10 runs out\n",
    "            if pocket[0] < 0 or pocket[1] < 0:\n",
    "                return False\n",
    "            \n",
    "        return True"
   ]
  },
  {
   "cell_type": "markdown",
   "metadata": {},
   "source": [
    "Time complexity: O(n) <br>\n",
    "Space complexity: O(2) <br>\n",
    "\n",
    "Next let's run some test cases."
   ]
  },
  {
   "cell_type": "code",
   "execution_count": 2,
   "metadata": {},
   "outputs": [
    {
     "data": {
      "text/plain": [
       "True"
      ]
     },
     "execution_count": 2,
     "metadata": {},
     "output_type": "execute_result"
    }
   ],
   "source": [
    "bills = [5,5,5,10,20]\n",
    "solution = Solution()\n",
    "solution.lemonadeChange(bills)"
   ]
  },
  {
   "cell_type": "code",
   "execution_count": 3,
   "metadata": {},
   "outputs": [
    {
     "data": {
      "text/plain": [
       "False"
      ]
     },
     "execution_count": 3,
     "metadata": {},
     "output_type": "execute_result"
    }
   ],
   "source": [
    "bills = [5,5,10,10,20]\n",
    "solution.lemonadeChange(bills)"
   ]
  }
 ],
 "metadata": {
  "kernelspec": {
   "display_name": "Python 3",
   "language": "python",
   "name": "python3"
  },
  "language_info": {
   "codemirror_mode": {
    "name": "ipython",
    "version": 3
   },
   "file_extension": ".py",
   "mimetype": "text/x-python",
   "name": "python",
   "nbconvert_exporter": "python",
   "pygments_lexer": "ipython3",
   "version": "3.10.9"
  },
  "orig_nbformat": 4,
  "vscode": {
   "interpreter": {
    "hash": "b197f2d146ba9dade075c512c2d967b6caa99253af0cd5aa569ca8174c9a813e"
   }
  }
 },
 "nbformat": 4,
 "nbformat_minor": 2
}
