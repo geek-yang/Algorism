{
 "cells": [
  {
   "cell_type": "code",
   "execution_count": 9,
   "metadata": {},
   "outputs": [],
   "source": [
    "class Solution:\n",
    "    def reverse_string(self, input):\n",
    "        i = 0\n",
    "        j = len(input) - 1\n",
    "        while (i<j):\n",
    "            k = input[i]\n",
    "            input[i] = input[j]\n",
    "            input[j] = k\n",
    "            i += 1\n",
    "            j -= 1"
   ]
  },
  {
   "cell_type": "code",
   "execution_count": 12,
   "metadata": {},
   "outputs": [
    {
     "name": "stdout",
     "output_type": "stream",
     "text": [
      "['e', 'x', 'p', 'e', 'r', 'i', 'm', 'e', 'n', 't']\n",
      "['t', 'n', 'e', 'm', 'i', 'r', 'e', 'p', 'x', 'e']\n"
     ]
    }
   ],
   "source": [
    "string = \"experiment\"\n",
    "s = list(string)\n",
    "print(s)\n",
    "\n",
    "solver = Solution()\n",
    "solver.reverse_string(s)\n",
    "print(s)"
   ]
  }
 ],
 "metadata": {
  "kernelspec": {
   "display_name": "Python 3.9.5 ('base')",
   "language": "python",
   "name": "python3"
  },
  "language_info": {
   "codemirror_mode": {
    "name": "ipython",
    "version": 3
   },
   "file_extension": ".py",
   "mimetype": "text/x-python",
   "name": "python",
   "nbconvert_exporter": "python",
   "pygments_lexer": "ipython3",
   "version": "3.9.5"
  },
  "orig_nbformat": 4,
  "vscode": {
   "interpreter": {
    "hash": "e7604e8ec5f09e490e10161e37a4725039efd3ab703d81b1b8a1e00d6741866c"
   }
  }
 },
 "nbformat": 4,
 "nbformat_minor": 2
}
