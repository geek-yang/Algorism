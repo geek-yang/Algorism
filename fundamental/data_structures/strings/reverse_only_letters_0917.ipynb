{
 "cells": [
  {
   "cell_type": "code",
   "execution_count": 4,
   "metadata": {},
   "outputs": [],
   "source": [
    "class Solution:\n",
    "    def reverseOnlyLetters(self, s: str) -> str:\n",
    "        str_list = list(s)\n",
    "        r = len(s) - 1\n",
    "        l = 0\n",
    "        while l < r:\n",
    "            if str_list[l].isalpha() and str_list[r].isalpha():\n",
    "                str_list[l], str_list[r] = str_list[r], str_list[l]\n",
    "                l += 1\n",
    "                r -= 1\n",
    "            else:\n",
    "                if not str_list[l].isalpha():\n",
    "                    l += 1\n",
    "                if not str_list[r].isalpha():\n",
    "                    r -= 1\n",
    "\n",
    "        return \"\".join(str_list)"
   ]
  },
  {
   "cell_type": "code",
   "execution_count": 5,
   "metadata": {},
   "outputs": [
    {
     "name": "stdout",
     "output_type": "stream",
     "text": [
      "dc-ba\n"
     ]
    }
   ],
   "source": [
    "s = \"ab-cd\"\n",
    "solver = Solution()\n",
    "result = solver.reverseOnlyLetters(s)\n",
    "print(result)"
   ]
  }
 ],
 "metadata": {
  "kernelspec": {
   "display_name": "Python 3.9.5 ('base')",
   "language": "python",
   "name": "python3"
  },
  "language_info": {
   "codemirror_mode": {
    "name": "ipython",
    "version": 3
   },
   "file_extension": ".py",
   "mimetype": "text/x-python",
   "name": "python",
   "nbconvert_exporter": "python",
   "pygments_lexer": "ipython3",
   "version": "3.9.5"
  },
  "orig_nbformat": 4,
  "vscode": {
   "interpreter": {
    "hash": "e7604e8ec5f09e490e10161e37a4725039efd3ab703d81b1b8a1e00d6741866c"
   }
  }
 },
 "nbformat": 4,
 "nbformat_minor": 2
}
