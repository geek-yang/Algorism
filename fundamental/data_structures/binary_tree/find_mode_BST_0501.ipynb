{
 "cells": [
  {
   "cell_type": "code",
   "execution_count": 7,
   "metadata": {},
   "outputs": [],
   "source": [
    "from typing import Optional\n",
    "from typing import List"
   ]
  },
  {
   "cell_type": "code",
   "execution_count": 8,
   "metadata": {},
   "outputs": [],
   "source": [
    "class TreeNode:\n",
    "    def __init__(self, val=0, left=None, right=None):\n",
    "        self.val = val\n",
    "        self.left = left\n",
    "        self.right = right\n",
    "\n",
    "# need more space\n",
    "class Solution:\n",
    "    def findMode(self, root: Optional[TreeNode]) -> List[int]:\n",
    "        if not root:\n",
    "            return None\n",
    "        sort_list = []\n",
    "        self.traversal_BST(root, sort_list)\n",
    "\n",
    "        val_list = [sort_list[0]]\n",
    "        freq_list = [1]\n",
    "\n",
    "        for i in sort_list[1:]:\n",
    "            if i in val_list:\n",
    "                freq_list[val_list.index(i)] += 1\n",
    "            else:\n",
    "                val_list.append(i)\n",
    "                freq_list.append(1)\n",
    "\n",
    "        #get the maximum freq\n",
    "        max_freq = max(freq_list)\n",
    "\n",
    "        results = []\n",
    "\n",
    "        # get all relevant values\n",
    "        for i, val in enumerate(freq_list):\n",
    "            if val == max_freq:\n",
    "                results.append(val_list[i])\n",
    "\n",
    "        return results\n",
    "\n",
    "    def traversal_BST(self, node, sort_list):\n",
    "        if node.left:\n",
    "            self.traversal_BST(node.left, sort_list)\n",
    "        sort_list.append(node.val)\n",
    "        if node.right:\n",
    "            self.traversal_BST(node.right, sort_list)"
   ]
  },
  {
   "cell_type": "code",
   "execution_count": 9,
   "metadata": {},
   "outputs": [
    {
     "name": "stdout",
     "output_type": "stream",
     "text": [
      "[3]\n"
     ]
    }
   ],
   "source": [
    "# BST\n",
    "node_1 = TreeNode(1)\n",
    "node_2 = TreeNode(2)\n",
    "node_3 = TreeNode(3)\n",
    "node_4 = TreeNode(7)\n",
    "node_5 = TreeNode(3, node_1, node_2)\n",
    "node_6 = TreeNode(6, node_3, node_4)\n",
    "node_root = TreeNode(4, node_5, node_6)\n",
    "\n",
    "solver = Solution()\n",
    "result = solver.findMode(node_root)\n",
    "print(result)"
   ]
  }
 ],
 "metadata": {
  "kernelspec": {
   "display_name": "Python 3.9.5 ('base')",
   "language": "python",
   "name": "python3"
  },
  "language_info": {
   "codemirror_mode": {
    "name": "ipython",
    "version": 3
   },
   "file_extension": ".py",
   "mimetype": "text/x-python",
   "name": "python",
   "nbconvert_exporter": "python",
   "pygments_lexer": "ipython3",
   "version": "3.9.5"
  },
  "orig_nbformat": 4,
  "vscode": {
   "interpreter": {
    "hash": "e7604e8ec5f09e490e10161e37a4725039efd3ab703d81b1b8a1e00d6741866c"
   }
  }
 },
 "nbformat": 4,
 "nbformat_minor": 2
}
