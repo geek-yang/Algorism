{
 "cells": [
  {
   "cell_type": "code",
   "execution_count": 1,
   "metadata": {},
   "outputs": [],
   "source": [
    "from typing import Optional"
   ]
  },
  {
   "cell_type": "code",
   "execution_count": 2,
   "metadata": {},
   "outputs": [],
   "source": [
    "class TreeNode:\n",
    "    def __init__(self, val=0, left=None, right=None):\n",
    "        self.val = val\n",
    "        self.left = left\n",
    "        self.right = right\n",
    "\n",
    "class Solution:\n",
    "    def isSymmetric(self, root: Optional[TreeNode]) -> bool:\n",
    "        if not root:\n",
    "            return True\n",
    "        left_tree = root.left\n",
    "        right_tree = root.right\n",
    "        \n",
    "        return self.compare(left_tree, right_tree)\n",
    "\n",
    "\n",
    "    def compare(self, left_node, right_node):\n",
    "        # all the exceptions\n",
    "        if left_node and not right_node:\n",
    "            return False\n",
    "        elif right_node and not left_node:\n",
    "            return False\n",
    "        elif not left_node and not right_node:\n",
    "            return True\n",
    "        elif left_node.val != right_node.val:\n",
    "            return False\n",
    "\n",
    "        # then we know both nodes exist and equal to each other\n",
    "        # now we perform recursive check\n",
    "        # left tree preorder traversal / right tree postorder traversal\n",
    "        # check outer nodes\n",
    "        self.compare(left_node.left, right_node.right)\n",
    "        # check inner nodes\n",
    "        self.compare(left_node.right, right_node.left)\n",
    "\n",
    "        return True"
   ]
  },
  {
   "cell_type": "code",
   "execution_count": 3,
   "metadata": {},
   "outputs": [
    {
     "name": "stdout",
     "output_type": "stream",
     "text": [
      "True\n"
     ]
    }
   ],
   "source": [
    "node_root = TreeNode(10)\n",
    "if not node_root.left and not node_root.right:\n",
    "    print(True)\n",
    "\n"
   ]
  }
 ],
 "metadata": {
  "kernelspec": {
   "display_name": "Python 3.9.5 ('base')",
   "language": "python",
   "name": "python3"
  },
  "language_info": {
   "codemirror_mode": {
    "name": "ipython",
    "version": 3
   },
   "file_extension": ".py",
   "mimetype": "text/x-python",
   "name": "python",
   "nbconvert_exporter": "python",
   "pygments_lexer": "ipython3",
   "version": "3.9.5"
  },
  "orig_nbformat": 4,
  "vscode": {
   "interpreter": {
    "hash": "e7604e8ec5f09e490e10161e37a4725039efd3ab703d81b1b8a1e00d6741866c"
   }
  }
 },
 "nbformat": 4,
 "nbformat_minor": 2
}
