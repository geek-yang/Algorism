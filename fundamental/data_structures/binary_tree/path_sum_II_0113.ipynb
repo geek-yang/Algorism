{
 "cells": [
  {
   "cell_type": "code",
   "execution_count": 10,
   "metadata": {},
   "outputs": [],
   "source": [
    "from typing import Optional\n",
    "from typing import List"
   ]
  },
  {
   "cell_type": "code",
   "execution_count": 11,
   "metadata": {},
   "outputs": [],
   "source": [
    "class TreeNode:\n",
    "    def __init__(self, val=0, left=None, right=None):\n",
    "        self.val = val\n",
    "        self.left = left\n",
    "        self.right = right\n",
    "\n",
    "class Solution:\n",
    "    def pathSum(self, root: Optional[TreeNode], targetSum: int) -> List[List[int]]:\n",
    "        results = []\n",
    "        temp_result = []\n",
    "        if not root:\n",
    "            return results\n",
    "        temp_result.append(root.val)\n",
    "        self.findPath(root, targetSum - root.val, temp_result, results)\n",
    "\n",
    "        return results\n",
    "\n",
    "    def findPath(self, node, residual, temp_result, results):\n",
    "        if not node.left and not node.right and residual == 0:\n",
    "            results.append(temp_result[:]) # note that we must pass values instead of reference here, so with [:]\n",
    "\n",
    "        if node.left:\n",
    "            temp_result.append(node.left.val)\n",
    "            self.findPath(node.left, residual - node.left.val, temp_result, results)\n",
    "            temp_result.pop()\n",
    "\n",
    "        if node.right:\n",
    "            temp_result.append(node.right.val)\n",
    "            self.findPath(node.right, residual - node.right.val, temp_result, results)\n",
    "            temp_result.pop()"
   ]
  },
  {
   "cell_type": "code",
   "execution_count": 9,
   "metadata": {},
   "outputs": [],
   "source": [
    "class Solution:\n",
    "    def pathSum(self, root: Optional[TreeNode], targetSum: int) -> List[List[int]]:\n",
    "        self.results = []\n",
    "        self.temp_result = []\n",
    "        if not root:\n",
    "            return self.results\n",
    "        self.temp_result.append(root.val)\n",
    "        self.findPath(root, targetSum - root.val)\n",
    "\n",
    "        return self.results\n",
    "\n",
    "    def findPath(self, node, residual):\n",
    "        if not node.left and not node.right:\n",
    "            if residual == 0:\n",
    "                self.results.append(self.temp_result[:])\n",
    "            return\n",
    "\n",
    "        if node.left:\n",
    "            self.temp_result.append(node.left.val)\n",
    "            self.findPath(node.left, residual - node.left.val)\n",
    "            self.temp_result.pop()\n",
    "\n",
    "        if node.right:\n",
    "            self.temp_result.append(node.right.val)\n",
    "            self.findPath(node.right, residual - node.right.val)\n",
    "            self.temp_result.pop()"
   ]
  },
  {
   "cell_type": "code",
   "execution_count": 1,
   "metadata": {},
   "outputs": [],
   "source": [
    "class TreeNode:\n",
    "    def __init__(self, val=0, left=None, right=None):\n",
    "        self.val = val\n",
    "        self.left = left\n",
    "        self.right = right"
   ]
  },
  {
   "cell_type": "code",
   "execution_count": 19,
   "metadata": {},
   "outputs": [],
   "source": [
    "class Solution:\n",
    "    def pathSum(self, root: TreeNode, targetSum: int) -> list[list[int]]:\n",
    "\n",
    "        def traversal(cur_node, remain): \n",
    "            if not cur_node.left and not cur_node.right:\n",
    "                if remain == 0: \n",
    "                    result.append(path[:])\n",
    "\n",
    "            if cur_node.left: \n",
    "                path.append(cur_node.left.val)\n",
    "                traversal(cur_node.left, remain-cur_node.left.val)\n",
    "                path.pop()\n",
    "\n",
    "            if cur_node.right: \n",
    "                path.append(cur_node.right.val)\n",
    "                traversal(cur_node.right, remain-cur_node.right.val)\n",
    "                path.pop()\n",
    "\n",
    "        result, path = [], []\n",
    "        if not root: \n",
    "            return []\n",
    "        path.append(root.val)\n",
    "        traversal(root, targetSum - root.val)\n",
    "        return result"
   ]
  },
  {
   "cell_type": "code",
   "execution_count": 12,
   "metadata": {},
   "outputs": [
    {
     "name": "stdout",
     "output_type": "stream",
     "text": [
      "[[10, 5, 2]]\n"
     ]
    }
   ],
   "source": [
    "node_1 = TreeNode(1)\n",
    "node_2 = TreeNode(2)\n",
    "node_3 = TreeNode(3)\n",
    "node_4 = TreeNode(4)\n",
    "node_5 = TreeNode(5, node_1, node_2)\n",
    "node_6 = TreeNode(6, node_3, node_4)\n",
    "node_root = TreeNode(10, node_5, node_6)\n",
    "\n",
    "targetSum = 17\n",
    "\n",
    "solver = Solution()\n",
    "results = solver.pathSum(node_root, targetSum)\n",
    "print(results)"
   ]
  }
 ],
 "metadata": {
  "kernelspec": {
   "display_name": "Python 3.9.5 ('base')",
   "language": "python",
   "name": "python3"
  },
  "language_info": {
   "codemirror_mode": {
    "name": "ipython",
    "version": 3
   },
   "file_extension": ".py",
   "mimetype": "text/x-python",
   "name": "python",
   "nbconvert_exporter": "python",
   "pygments_lexer": "ipython3",
   "version": "3.9.5"
  },
  "orig_nbformat": 4,
  "vscode": {
   "interpreter": {
    "hash": "e7604e8ec5f09e490e10161e37a4725039efd3ab703d81b1b8a1e00d6741866c"
   }
  }
 },
 "nbformat": 4,
 "nbformat_minor": 2
}
