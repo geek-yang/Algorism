{
 "cells": [
  {
   "cell_type": "code",
   "execution_count": 1,
   "metadata": {},
   "outputs": [],
   "source": [
    "from typing import Optional\n",
    "from typing import List"
   ]
  },
  {
   "cell_type": "code",
   "execution_count": 2,
   "metadata": {},
   "outputs": [],
   "source": [
    "class TreeNode:\n",
    "    def __init__(self, val=0, left=None, right=None):\n",
    "        self.val = val\n",
    "        self.left = left\n",
    "        self.right = right\n",
    "\n",
    "class Solution:\n",
    "    def getMinimumDifference(self, root: Optional[TreeNode]) -> int:\n",
    "        if not root:\n",
    "            return None\n",
    "        if not root.left and not root.right:\n",
    "            return None\n",
    "\n",
    "        sort_list = []\n",
    "\n",
    "        self.traversal(root, sort_list)\n",
    "\n",
    "        minimum_diff = min([(i-j) for (i,j) in zip(sort_list[1:], sort_list[:-1])])\n",
    "        \n",
    "        return minimum_diff\n",
    "\n",
    "    def traversal(self, node, sort_list):\n",
    "        if node.left:\n",
    "            self.traversal(node.left, sort_list)\n",
    "        sort_list.append(node.val)\n",
    "        if node.right:\n",
    "            self.traversal(node.right, sort_list)"
   ]
  },
  {
   "cell_type": "code",
   "execution_count": 3,
   "metadata": {},
   "outputs": [
    {
     "name": "stdout",
     "output_type": "stream",
     "text": [
      "1\n"
     ]
    }
   ],
   "source": [
    "node_1 = TreeNode(1)\n",
    "node_2 = TreeNode(3)\n",
    "node_3 = TreeNode(5)\n",
    "node_4 = TreeNode(7)\n",
    "node_5 = TreeNode(2, node_1, node_2)\n",
    "node_6 = TreeNode(6, node_3, node_4)\n",
    "node_root = TreeNode(4, node_5, node_6)\n",
    "\n",
    "solver = Solution()\n",
    "min_diff = solver.getMinimumDifference(node_root)\n",
    "print(min_diff)"
   ]
  }
 ],
 "metadata": {
  "kernelspec": {
   "display_name": "Python 3.9.5 ('base')",
   "language": "python",
   "name": "python3"
  },
  "language_info": {
   "codemirror_mode": {
    "name": "ipython",
    "version": 3
   },
   "file_extension": ".py",
   "mimetype": "text/x-python",
   "name": "python",
   "nbconvert_exporter": "python",
   "pygments_lexer": "ipython3",
   "version": "3.9.5"
  },
  "orig_nbformat": 4,
  "vscode": {
   "interpreter": {
    "hash": "e7604e8ec5f09e490e10161e37a4725039efd3ab703d81b1b8a1e00d6741866c"
   }
  }
 },
 "nbformat": 4,
 "nbformat_minor": 2
}
