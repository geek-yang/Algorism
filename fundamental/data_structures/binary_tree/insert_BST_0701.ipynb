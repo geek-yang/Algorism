{
 "cells": [
  {
   "cell_type": "code",
   "execution_count": 9,
   "metadata": {},
   "outputs": [],
   "source": [
    "from typing import Optional\n",
    "from collections import deque"
   ]
  },
  {
   "cell_type": "code",
   "execution_count": 10,
   "metadata": {},
   "outputs": [],
   "source": [
    "class TreeNode:\n",
    "    def __init__(self, val=0, left=None, right=None):\n",
    "        self.val = val\n",
    "        self.left = left\n",
    "        self.right = right\n",
    "\n",
    "class Solution:\n",
    "    def insertIntoBST(self, root: Optional[TreeNode], val: int) -> Optional[TreeNode]:\n",
    "        # edge case when input is empty\n",
    "        if not root:\n",
    "            node_insert = TreeNode(val = val)\n",
    "            root = node_insert\n",
    "        \n",
    "        # find empty node and insert\n",
    "        if val > root.val and not root.right:\n",
    "            node_insert = TreeNode(val = val)\n",
    "            root.right = node_insert\n",
    "        if val < root.val and not root.left:\n",
    "            node_insert = TreeNode(val = val)\n",
    "            root.left = node_insert\n",
    "\n",
    "        if val > root.val:\n",
    "            self.insertIntoBST(root.right, val)\n",
    "\n",
    "        if val < root.val:\n",
    "            self.insertIntoBST(root.left, val)\n",
    "\n",
    "        return root"
   ]
  },
  {
   "cell_type": "code",
   "execution_count": 11,
   "metadata": {},
   "outputs": [],
   "source": [
    "def level_traversal(root):\n",
    "    results = []\n",
    "\n",
    "    if not root:\n",
    "        return results\n",
    "\n",
    "    queue = deque([root])\n",
    "\n",
    "    while queue:\n",
    "        node = queue.popleft()\n",
    "        results.append(node.val)\n",
    "        if node.left:\n",
    "            queue.append(node.left)\n",
    "\n",
    "        if node.right:\n",
    "            queue.append(node.right)\n",
    "\n",
    "    return results"
   ]
  },
  {
   "cell_type": "code",
   "execution_count": null,
   "metadata": {},
   "outputs": [],
   "source": [
    "# simple answer\n",
    "class Solution:\n",
    "    def insertIntoBST(self, root: TreeNode, val: int) -> TreeNode:\n",
    "        if not root: return TreeNode(val)\n",
    "\n",
    "        if val < root.val: \n",
    "            root.left = self.insertIntoBST(root.left, val)\n",
    "\n",
    "        if root.val < val:\n",
    "            root.right = self.insertIntoBST(root.right, val)\n",
    "\n",
    "        return root"
   ]
  },
  {
   "cell_type": "code",
   "execution_count": 12,
   "metadata": {},
   "outputs": [
    {
     "name": "stdout",
     "output_type": "stream",
     "text": [
      "[4, 2, 6, 1, 3, 5, 7, 8]\n"
     ]
    }
   ],
   "source": [
    "node_1 = TreeNode(1)\n",
    "node_2 = TreeNode(3)\n",
    "node_3 = TreeNode(5)\n",
    "node_4 = TreeNode(7)\n",
    "node_5 = TreeNode(2, node_1, node_2)\n",
    "node_6 = TreeNode(6, node_3, node_4)\n",
    "node_root = TreeNode(4, node_5, node_6)\n",
    "\n",
    "val = 8\n",
    "\n",
    "solver = Solution()\n",
    "solver.insertIntoBST(node_root, val)\n",
    "\n",
    "results = level_traversal(node_root)\n",
    "print(results)"
   ]
  }
 ],
 "metadata": {
  "kernelspec": {
   "display_name": "Python 3.9.5 ('base')",
   "language": "python",
   "name": "python3"
  },
  "language_info": {
   "codemirror_mode": {
    "name": "ipython",
    "version": 3
   },
   "file_extension": ".py",
   "mimetype": "text/x-python",
   "name": "python",
   "nbconvert_exporter": "python",
   "pygments_lexer": "ipython3",
   "version": "3.9.5"
  },
  "orig_nbformat": 4,
  "vscode": {
   "interpreter": {
    "hash": "e7604e8ec5f09e490e10161e37a4725039efd3ab703d81b1b8a1e00d6741866c"
   }
  }
 },
 "nbformat": 4,
 "nbformat_minor": 2
}
