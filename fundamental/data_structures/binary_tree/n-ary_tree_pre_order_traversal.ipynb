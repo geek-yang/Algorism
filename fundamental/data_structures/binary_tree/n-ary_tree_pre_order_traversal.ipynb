{
 "cells": [
  {
   "cell_type": "code",
   "execution_count": 5,
   "metadata": {},
   "outputs": [],
   "source": [
    "from typing import List"
   ]
  },
  {
   "cell_type": "code",
   "execution_count": 6,
   "metadata": {},
   "outputs": [],
   "source": [
    "class Node:\n",
    "    def __init__(self, val=None, children=None):\n",
    "        self.val = val\n",
    "        self.children = children\n",
    "\n",
    "class Solution:\n",
    "    def preorder(self, root: 'Node') -> List[int]:\n",
    "        self.results = []\n",
    "\n",
    "        self.traversal(root)\n",
    "\n",
    "        return self.results\n",
    "\n",
    "    def traversal(self, node):\n",
    "        if not node:\n",
    "            return\n",
    "\n",
    "        self.results.append(node.val)\n",
    "        \n",
    "        if node.children:\n",
    "            for child in node.children:\n",
    "                self.traversal(child)"
   ]
  },
  {
   "cell_type": "code",
   "execution_count": 7,
   "metadata": {},
   "outputs": [],
   "source": [
    "node_root = Node(val = 1)\n",
    "node_1 = Node(val = 3)\n",
    "node_2 = Node(val = 2)\n",
    "node_3 = Node(val = 4)\n",
    "node_4 = Node(val = 5)\n",
    "node_5 = Node(val = 6)\n",
    "node_root.children = [node_1, node_2, node_3]\n",
    "node_1.children = [node_4, node_5]"
   ]
  },
  {
   "cell_type": "code",
   "execution_count": 8,
   "metadata": {},
   "outputs": [
    {
     "name": "stdout",
     "output_type": "stream",
     "text": [
      "[1, 3, 5, 6, 2, 4]\n"
     ]
    }
   ],
   "source": [
    "solver = Solution()\n",
    "result = solver.preorder(node_root)\n",
    "print(result)"
   ]
  }
 ],
 "metadata": {
  "kernelspec": {
   "display_name": "Python 3.8.5 ('base')",
   "language": "python",
   "name": "python3"
  },
  "language_info": {
   "codemirror_mode": {
    "name": "ipython",
    "version": 3
   },
   "file_extension": ".py",
   "mimetype": "text/x-python",
   "name": "python",
   "nbconvert_exporter": "python",
   "pygments_lexer": "ipython3",
   "version": "3.8.5"
  },
  "orig_nbformat": 4,
  "vscode": {
   "interpreter": {
    "hash": "e7604e8ec5f09e490e10161e37a4725039efd3ab703d81b1b8a1e00d6741866c"
   }
  }
 },
 "nbformat": 4,
 "nbformat_minor": 2
}
