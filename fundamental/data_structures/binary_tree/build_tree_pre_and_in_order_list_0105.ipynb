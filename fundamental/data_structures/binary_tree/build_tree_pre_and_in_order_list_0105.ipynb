{
 "cells": [
  {
   "cell_type": "code",
   "execution_count": 1,
   "metadata": {},
   "outputs": [],
   "source": [
    "from typing import Optional\n",
    "from typing import List"
   ]
  },
  {
   "cell_type": "code",
   "execution_count": 2,
   "metadata": {},
   "outputs": [],
   "source": [
    "# Definition for a binary tree node.\n",
    "class TreeNode:\n",
    "    def __init__(self, val=0, left=None, right=None):\n",
    "        self.val = val\n",
    "        self.left = left\n",
    "        self.right = right\n",
    "\n",
    "class Solution:\n",
    "    def buildTree(self, preorder: List[int], inorder: List[int]) -> Optional[TreeNode]:\n",
    "        # build a tree is the same as retriving a tree, we need recursion here\n",
    "        # check if empty\n",
    "        if len(preorder) == 0:\n",
    "            return None\n",
    "\n",
    "        # get the root from the preorder list\n",
    "        root = TreeNode(val = preorder[0])\n",
    "\n",
    "        # split inorder list to left and right\n",
    "        # note that the current root node must be excluded\n",
    "        inorder_left = inorder[:inorder.index(preorder[0])]\n",
    "        inorder_right = inorder[inorder.index(preorder[0])+1:]\n",
    "\n",
    "        # split preorder list to left and right\n",
    "        preorder_left = preorder[1:len(inorder_left)+1]\n",
    "        preorder_right = preorder[len(inorder_left)+1:]\n",
    "\n",
    "        # left branch\n",
    "        root.left = self.buildTree(preorder_left, inorder_left)\n",
    "\n",
    "        # right branch\n",
    "        root.right = self.buildTree(preorder_right, inorder_right)    \n",
    "\n",
    "        return root   "
   ]
  },
  {
   "cell_type": "code",
   "execution_count": 3,
   "metadata": {},
   "outputs": [],
   "source": [
    "def traversal(root):\n",
    "    #preorder\n",
    "    if root:\n",
    "        print(root.val)\n",
    "    if root.left:\n",
    "        traversal(root.left)\n",
    "    if root.right:\n",
    "        traversal(root.right)"
   ]
  },
  {
   "cell_type": "code",
   "execution_count": 4,
   "metadata": {},
   "outputs": [
    {
     "name": "stdout",
     "output_type": "stream",
     "text": [
      "9\n",
      "3\n",
      "15\n",
      "20\n",
      "7\n"
     ]
    }
   ],
   "source": [
    "inorder = [9,3,15,20,7]\n",
    "preorder = [3,9,20,15,7]\n",
    "\n",
    "solver = Solution()\n",
    "root = solver.buildTree(inorder, preorder)\n",
    "traversal(root)"
   ]
  }
 ],
 "metadata": {
  "kernelspec": {
   "display_name": "Python 3.9.5 ('base')",
   "language": "python",
   "name": "python3"
  },
  "language_info": {
   "codemirror_mode": {
    "name": "ipython",
    "version": 3
   },
   "file_extension": ".py",
   "mimetype": "text/x-python",
   "name": "python",
   "nbconvert_exporter": "python",
   "pygments_lexer": "ipython3",
   "version": "3.9.5"
  },
  "orig_nbformat": 4,
  "vscode": {
   "interpreter": {
    "hash": "e7604e8ec5f09e490e10161e37a4725039efd3ab703d81b1b8a1e00d6741866c"
   }
  }
 },
 "nbformat": 4,
 "nbformat_minor": 2
}
