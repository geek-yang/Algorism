{
 "cells": [
  {
   "cell_type": "code",
   "execution_count": 4,
   "metadata": {},
   "outputs": [],
   "source": [
    "from typing import Optional"
   ]
  },
  {
   "cell_type": "code",
   "execution_count": 5,
   "metadata": {},
   "outputs": [],
   "source": [
    "class TreeNode:\n",
    "    def __init__(self, val=0, left=None, right=None):\n",
    "        self.val = val\n",
    "        self.left = left\n",
    "        self.right = right\n",
    "\n",
    "class Solution:\n",
    "    def maxDepth(self, root: Optional[TreeNode]) -> int:\n",
    "        return self.getDepth(root)\n",
    "\n",
    "    def getDepth(self, node):\n",
    "        if not node:\n",
    "            return 0\n",
    "        leftdepth = self.getDepth(node.left)\n",
    "        rightdepth = self.getDepth(node.right)\n",
    "        depth = 1 + max(leftdepth, rightdepth)\n",
    "\n",
    "        return depth"
   ]
  },
  {
   "cell_type": "code",
   "execution_count": 6,
   "metadata": {},
   "outputs": [
    {
     "name": "stdout",
     "output_type": "stream",
     "text": [
      "3\n"
     ]
    }
   ],
   "source": [
    "node_1 = TreeNode(1)\n",
    "node_2 = TreeNode(2)\n",
    "node_3 = TreeNode(3)\n",
    "node_4 = TreeNode(4)\n",
    "node_5 = TreeNode(5, node_1, node_2)\n",
    "node_6 = TreeNode(6, node_3, node_4)\n",
    "node_root = TreeNode(10, node_5, node_6)\n",
    "\n",
    "solver = Solution()\n",
    "depth = solver.maxDepth(node_root)\n",
    "print(depth)"
   ]
  }
 ],
 "metadata": {
  "kernelspec": {
   "display_name": "Python 3.9.5 ('base')",
   "language": "python",
   "name": "python3"
  },
  "language_info": {
   "codemirror_mode": {
    "name": "ipython",
    "version": 3
   },
   "file_extension": ".py",
   "mimetype": "text/x-python",
   "name": "python",
   "nbconvert_exporter": "python",
   "pygments_lexer": "ipython3",
   "version": "3.9.5"
  },
  "orig_nbformat": 4,
  "vscode": {
   "interpreter": {
    "hash": "e7604e8ec5f09e490e10161e37a4725039efd3ab703d81b1b8a1e00d6741866c"
   }
  }
 },
 "nbformat": 4,
 "nbformat_minor": 2
}
