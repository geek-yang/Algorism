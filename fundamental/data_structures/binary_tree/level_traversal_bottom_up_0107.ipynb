{
 "cells": [
  {
   "cell_type": "code",
   "execution_count": 1,
   "metadata": {},
   "outputs": [],
   "source": [
    "from collections import deque\n",
    "from typing import List"
   ]
  },
  {
   "cell_type": "code",
   "execution_count": 2,
   "metadata": {},
   "outputs": [],
   "source": [
    "class TreeNode:\n",
    "    def __init__(self, val=0, left=None, right=None):\n",
    "        self.val = val\n",
    "        self.left = left\n",
    "        self.right = right\n",
    "\n",
    "class Solution:\n",
    "    def levelTraversal(self, root: TreeNode) -> List:\n",
    "        results = []\n",
    "        if not root:\n",
    "            return results\n",
    "\n",
    "        que = deque([root])\n",
    "        while que:\n",
    "            size = len(que)\n",
    "            result = []\n",
    "            for _ in range(size):\n",
    "                cur = que.popleft()\n",
    "                result.append(cur.val)\n",
    "                if cur.left:\n",
    "                    que.append(cur.left)\n",
    "                if cur.right:\n",
    "                    que.append(cur.right)\n",
    "            results.append(result)\n",
    "\n",
    "        return results[::-1]"
   ]
  },
  {
   "cell_type": "code",
   "execution_count": 3,
   "metadata": {},
   "outputs": [
    {
     "name": "stdout",
     "output_type": "stream",
     "text": [
      "[[1, 2, 3, 4], [5, 6], [10]]\n"
     ]
    }
   ],
   "source": [
    "node_1 = TreeNode(1)\n",
    "node_2 = TreeNode(2)\n",
    "node_3 = TreeNode(3)\n",
    "node_4 = TreeNode(4)\n",
    "node_5 = TreeNode(5, node_1, node_2)\n",
    "node_6 = TreeNode(6, node_3, node_4)\n",
    "node_root = TreeNode(10, node_5, node_6)\n",
    "\n",
    "solver = Solution()\n",
    "results = solver.levelTraversal(node_root)\n",
    "print(results)"
   ]
  }
 ],
 "metadata": {
  "kernelspec": {
   "display_name": "Python 3.9.5 ('base')",
   "language": "python",
   "name": "python3"
  },
  "language_info": {
   "codemirror_mode": {
    "name": "ipython",
    "version": 3
   },
   "file_extension": ".py",
   "mimetype": "text/x-python",
   "name": "python",
   "nbconvert_exporter": "python",
   "pygments_lexer": "ipython3",
   "version": "3.9.5"
  },
  "orig_nbformat": 4,
  "vscode": {
   "interpreter": {
    "hash": "e7604e8ec5f09e490e10161e37a4725039efd3ab703d81b1b8a1e00d6741866c"
   }
  }
 },
 "nbformat": 4,
 "nbformat_minor": 2
}
