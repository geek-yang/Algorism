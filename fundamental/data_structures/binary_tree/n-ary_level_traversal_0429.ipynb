{
 "cells": [
  {
   "cell_type": "code",
   "execution_count": null,
   "metadata": {},
   "outputs": [],
   "source": [
    "from typing import List\n",
    "from collections import deque"
   ]
  },
  {
   "cell_type": "code",
   "execution_count": null,
   "metadata": {},
   "outputs": [],
   "source": [
    "class Node:\n",
    "    def __init__(self, val=None, children=None):\n",
    "        self.val = val\n",
    "        self.children = children"
   ]
  },
  {
   "cell_type": "code",
   "execution_count": null,
   "metadata": {},
   "outputs": [],
   "source": [
    "class Solution:\n",
    "    def levelOrder(self, root: 'Node') -> List[List[int]]:\n",
    "        if not root:\n",
    "            return []\n",
    "        results = []\n",
    "        queue = deque([root])\n",
    "        while queue:\n",
    "            path = []\n",
    "            for _ in range(len(queue)):\n",
    "                node = queue.popleft()\n",
    "                path.append(node.val)\n",
    "                for child in node.children:\n",
    "                    queue.append(child)\n",
    "            \n",
    "            results.append(path[:])\n",
    "        \n",
    "        return results"
   ]
  }
 ],
 "metadata": {
  "language_info": {
   "name": "python"
  },
  "orig_nbformat": 4
 },
 "nbformat": 4,
 "nbformat_minor": 2
}
