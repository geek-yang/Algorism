{
 "cells": [
  {
   "cell_type": "code",
   "execution_count": 25,
   "metadata": {},
   "outputs": [],
   "source": [
    "from typing import Optional\n",
    "from collections import deque"
   ]
  },
  {
   "cell_type": "code",
   "execution_count": 26,
   "metadata": {},
   "outputs": [],
   "source": [
    "class TreeNode:\n",
    "    def __init__(self, val=0, left=None, right=None):\n",
    "        self.val = val\n",
    "        self.left = left\n",
    "        self.right = right\n",
    "\n",
    "class Solution:\n",
    "    def deleteNode(self, root: Optional[TreeNode], key: int) -> Optional[TreeNode]:\n",
    "        # deal with exception at root\n",
    "        if not root:\n",
    "            return None\n",
    "        if root.val < key: # note that the return value will replace root.right\n",
    "            root.right = self.deleteNode(root.right, key)\n",
    "        elif root.val > key: # note that the return value will replace root.left\n",
    "            root.left =self.deleteNode(root.left, key)\n",
    "        else:\n",
    "            if not root.left:\n",
    "                return root.right\n",
    "\n",
    "            if not root.right:\n",
    "                return root.left\n",
    "            # most tricky case\n",
    "            node = root.right\n",
    "            # find the most left leaf of right node\n",
    "            while node.left:\n",
    "                node = node.left\n",
    "            # attach the whole left branch to this node\n",
    "            node.left = root.left\n",
    "            # now we can again replace root with right child\n",
    "            root = root.right\n",
    "        \n",
    "        return root # recall"
   ]
  },
  {
   "cell_type": "code",
   "execution_count": 27,
   "metadata": {},
   "outputs": [],
   "source": [
    "def level_traversal(root):\n",
    "    if not root:\n",
    "        return None\n",
    "    queue = deque([root])\n",
    "    results = []\n",
    "    while queue:\n",
    "        layer = []\n",
    "        for _ in range(len(queue)):\n",
    "            node = queue.popleft()\n",
    "            layer.append(node.val)\n",
    "            if node.left:\n",
    "                queue.append(node.left)\n",
    "            if node.right:\n",
    "                queue.append(node.right)\n",
    "        results.append(layer)\n",
    "\n",
    "    return results"
   ]
  },
  {
   "cell_type": "code",
   "execution_count": 28,
   "metadata": {},
   "outputs": [
    {
     "name": "stdout",
     "output_type": "stream",
     "text": [
      "[[4], [2, 6], [1, 3, 7]]\n"
     ]
    }
   ],
   "source": [
    "# BST\n",
    "node_1 = TreeNode(1)\n",
    "node_2 = TreeNode(3)\n",
    "node_3 = TreeNode(5)\n",
    "node_4 = TreeNode(7)\n",
    "node_5 = TreeNode(2, node_1, node_2)\n",
    "node_6 = TreeNode(6, node_3, node_4)\n",
    "node_root = TreeNode(4, node_5, node_6)\n",
    "\n",
    "key = 5\n",
    "\n",
    "solver = Solution()\n",
    "root = solver.deleteNode(node_root, key)\n",
    "results = level_traversal(root)\n",
    "print(results)"
   ]
  }
 ],
 "metadata": {
  "kernelspec": {
   "display_name": "Python 3.9.5 ('base')",
   "language": "python",
   "name": "python3"
  },
  "language_info": {
   "codemirror_mode": {
    "name": "ipython",
    "version": 3
   },
   "file_extension": ".py",
   "mimetype": "text/x-python",
   "name": "python",
   "nbconvert_exporter": "python",
   "pygments_lexer": "ipython3",
   "version": "3.9.5"
  },
  "orig_nbformat": 4,
  "vscode": {
   "interpreter": {
    "hash": "e7604e8ec5f09e490e10161e37a4725039efd3ab703d81b1b8a1e00d6741866c"
   }
  }
 },
 "nbformat": 4,
 "nbformat_minor": 2
}
