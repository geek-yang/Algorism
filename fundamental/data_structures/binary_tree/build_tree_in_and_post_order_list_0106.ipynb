{
 "cells": [
  {
   "cell_type": "code",
   "execution_count": 1,
   "metadata": {},
   "outputs": [],
   "source": [
    "from typing import Optional\n",
    "from typing import List"
   ]
  },
  {
   "cell_type": "code",
   "execution_count": 2,
   "metadata": {},
   "outputs": [],
   "source": [
    "# Definition for a binary tree node.\n",
    "class TreeNode:\n",
    "    def __init__(self, val=0, left=None, right=None):\n",
    "        self.val = val\n",
    "        self.left = left\n",
    "        self.right = right\n",
    "\n",
    "class Solution:\n",
    "    def buildTree(self, inorder: List[int], postorder: List[int]) -> Optional[TreeNode]:\n",
    "        # build a tree is the same as retriving a tree, we need recursion here\n",
    "        # check if empty\n",
    "        if len(inorder) == 0:\n",
    "            return None\n",
    "        \n",
    "        # get the root from the postorder list\n",
    "        root = TreeNode(val = postorder[-1])\n",
    "\n",
    "        # split inorder list to left and right\n",
    "        # note that the current root node must be excluded\n",
    "        inorder_left = inorder[:inorder.index(postorder[-1])]\n",
    "        inorder_right = inorder[inorder.index(postorder[-1])+1:]\n",
    "\n",
    "        # split postorder list to left and right\n",
    "        postorder_left = postorder[:len(inorder_left)]\n",
    "        postorder_right = postorder[len(inorder_left):-1]\n",
    "\n",
    "        # left branch\n",
    "        root.left = self.buildTree(inorder_left, postorder_left)\n",
    "\n",
    "        # right branch\n",
    "        root.right = self.buildTree(inorder_right, postorder_right)\n",
    "\n",
    "        return root"
   ]
  },
  {
   "cell_type": "code",
   "execution_count": 3,
   "metadata": {},
   "outputs": [],
   "source": [
    "def traversal(root):\n",
    "    #preorder\n",
    "    if root:\n",
    "        print(root.val)\n",
    "    if root.left:\n",
    "        traversal(root.left)\n",
    "    if root.right:\n",
    "        traversal(root.right)"
   ]
  },
  {
   "cell_type": "code",
   "execution_count": 4,
   "metadata": {},
   "outputs": [
    {
     "name": "stdout",
     "output_type": "stream",
     "text": [
      "3\n",
      "9\n",
      "20\n",
      "15\n",
      "7\n"
     ]
    }
   ],
   "source": [
    "inorder = [9,3,15,20,7]\n",
    "postorder = [9,15,7,20,3]\n",
    "\n",
    "solver = Solution()\n",
    "root = solver.buildTree(inorder, postorder)\n",
    "traversal(root)\n"
   ]
  }
 ],
 "metadata": {
  "kernelspec": {
   "display_name": "Python 3.9.5 ('base')",
   "language": "python",
   "name": "python3"
  },
  "language_info": {
   "codemirror_mode": {
    "name": "ipython",
    "version": 3
   },
   "file_extension": ".py",
   "mimetype": "text/x-python",
   "name": "python",
   "nbconvert_exporter": "python",
   "pygments_lexer": "ipython3",
   "version": "3.9.5"
  },
  "orig_nbformat": 4,
  "vscode": {
   "interpreter": {
    "hash": "e7604e8ec5f09e490e10161e37a4725039efd3ab703d81b1b8a1e00d6741866c"
   }
  }
 },
 "nbformat": 4,
 "nbformat_minor": 2
}
