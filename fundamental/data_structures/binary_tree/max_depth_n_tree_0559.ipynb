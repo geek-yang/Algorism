{
 "cells": [
  {
   "cell_type": "code",
   "execution_count": 5,
   "metadata": {},
   "outputs": [],
   "source": [
    "class Node:\n",
    "    def __init__(self, val=None, children=None):\n",
    "        self.val = val\n",
    "        self.children = children\n",
    "\n",
    "class Solution:\n",
    "    def maxDepth(self, root: 'Node') -> int:\n",
    "        return self.getDepth(root)\n",
    "\n",
    "    def getDepth(self, node):\n",
    "        if not node:\n",
    "            return 0\n",
    "        \n",
    "        depth = 0\n",
    "        if node.children:\n",
    "            for branch in node.children:\n",
    "                child_depth = self.getDepth(branch)\n",
    "                depth = max(depth, child_depth)\n",
    "\n",
    "        return depth + 1\n"
   ]
  },
  {
   "cell_type": "code",
   "execution_count": 6,
   "metadata": {},
   "outputs": [
    {
     "name": "stdout",
     "output_type": "stream",
     "text": [
      "3\n"
     ]
    }
   ],
   "source": [
    "node_1 = Node(1)\n",
    "node_2 = Node(2)\n",
    "node_3 = Node(3)\n",
    "node_4 = Node(4)\n",
    "node_5 = Node(5, [node_1, node_2])\n",
    "node_6 = Node(6, [node_3, node_4])\n",
    "node_root = Node(10, [node_5, node_6])\n",
    "\n",
    "solver = Solution()\n",
    "depth = solver.maxDepth(node_root)\n",
    "print(depth)"
   ]
  }
 ],
 "metadata": {
  "kernelspec": {
   "display_name": "Python 3.9.5 ('base')",
   "language": "python",
   "name": "python3"
  },
  "language_info": {
   "codemirror_mode": {
    "name": "ipython",
    "version": 3
   },
   "file_extension": ".py",
   "mimetype": "text/x-python",
   "name": "python",
   "nbconvert_exporter": "python",
   "pygments_lexer": "ipython3",
   "version": "3.9.5"
  },
  "orig_nbformat": 4,
  "vscode": {
   "interpreter": {
    "hash": "e7604e8ec5f09e490e10161e37a4725039efd3ab703d81b1b8a1e00d6741866c"
   }
  }
 },
 "nbformat": 4,
 "nbformat_minor": 2
}
