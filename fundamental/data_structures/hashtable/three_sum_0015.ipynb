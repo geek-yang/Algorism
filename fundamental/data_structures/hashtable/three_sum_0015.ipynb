{
 "cells": [
  {
   "cell_type": "code",
   "execution_count": 1,
   "metadata": {},
   "outputs": [],
   "source": [
    "from typing import List"
   ]
  },
  {
   "cell_type": "code",
   "execution_count": 2,
   "metadata": {},
   "outputs": [],
   "source": [
    "class Solution:\n",
    "    def threeSum(self, nums: List[int]) -> List[List[int]]:\n",
    "        if len(nums) < 3: return []\n",
    "        nums = sorted(nums)\n",
    "        results = []\n",
    "        for i in range(len(nums) - 2):\n",
    "            j = i + 1 # left pointer\n",
    "            k = len(nums) - 1 # right pointer\n",
    "            if results != [] and results[-1][0] == nums[i]: continue # check duplicate for the latest element\n",
    "            while j < k:\n",
    "                if nums[i] + nums[j] + nums[k] == 0:\n",
    "                    results.append([nums[i], nums[j], nums[k]])\n",
    "                    while j < k - 1 and nums[j] == nums[j+1]:\n",
    "                        j += 1\n",
    "                    while k > j + 1 and nums[k] == nums[k-1]:\n",
    "                        k -= 1\n",
    "                if nums[i] + nums[j] + nums[k] > 0:\n",
    "                    k -= 1\n",
    "                else:\n",
    "                    j += 1\n",
    "                    \n",
    "        return results"
   ]
  },
  {
   "cell_type": "code",
   "execution_count": 3,
   "metadata": {},
   "outputs": [
    {
     "data": {
      "text/plain": [
       "[[-1, -1, 2], [-1, 0, 1]]"
      ]
     },
     "execution_count": 3,
     "metadata": {},
     "output_type": "execute_result"
    }
   ],
   "source": [
    "nums = [-1,0,1,2,-1,-4]\n",
    "solver = Solution()\n",
    "solver.threeSum(nums)"
   ]
  }
 ],
 "metadata": {
  "kernelspec": {
   "display_name": "Python 3.9.5 ('base')",
   "language": "python",
   "name": "python3"
  },
  "language_info": {
   "codemirror_mode": {
    "name": "ipython",
    "version": 3
   },
   "file_extension": ".py",
   "mimetype": "text/x-python",
   "name": "python",
   "nbconvert_exporter": "python",
   "pygments_lexer": "ipython3",
   "version": "3.9.5"
  },
  "orig_nbformat": 4,
  "vscode": {
   "interpreter": {
    "hash": "e7604e8ec5f09e490e10161e37a4725039efd3ab703d81b1b8a1e00d6741866c"
   }
  }
 },
 "nbformat": 4,
 "nbformat_minor": 2
}
