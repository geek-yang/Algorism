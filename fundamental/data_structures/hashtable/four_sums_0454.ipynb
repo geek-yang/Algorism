{
 "cells": [
  {
   "cell_type": "code",
   "execution_count": 1,
   "metadata": {},
   "outputs": [],
   "source": [
    "from typing import List"
   ]
  },
  {
   "cell_type": "code",
   "execution_count": 2,
   "metadata": {},
   "outputs": [],
   "source": [
    "class Solution:\n",
    "    def fourSumCount(self, nums1: List[int], nums2: List[int], nums3: List[int], nums4: List[int]) -> int:\n",
    "        two_sum_dict = dict()\n",
    "        for i in nums1:\n",
    "            for j in nums2:\n",
    "                if (i+j) in two_sum_dict:\n",
    "                    two_sum_dict[i+j] += 1\n",
    "                else:\n",
    "                    two_sum_dict[i+j] = 1\n",
    "        count = 0\n",
    "        for i in nums3:\n",
    "            for j in nums4:\n",
    "                if -(i+j) in two_sum_dict:\n",
    "                    count += two_sum_dict[-(i+j)]\n",
    "        return count"
   ]
  },
  {
   "cell_type": "code",
   "execution_count": 4,
   "metadata": {},
   "outputs": [
    {
     "data": {
      "text/plain": [
       "2"
      ]
     },
     "execution_count": 4,
     "metadata": {},
     "output_type": "execute_result"
    }
   ],
   "source": [
    "nums1 = [1,2]\n",
    "nums2 = [-2,-1]\n",
    "nums3 = [-1,2]\n",
    "nums4 = [0,2]\n",
    "\n",
    "solver = Solution()\n",
    "solver.fourSumCount(nums1, nums2, nums3, nums4)"
   ]
  }
 ],
 "metadata": {
  "kernelspec": {
   "display_name": "Python 3.9.5 ('base')",
   "language": "python",
   "name": "python3"
  },
  "language_info": {
   "codemirror_mode": {
    "name": "ipython",
    "version": 3
   },
   "file_extension": ".py",
   "mimetype": "text/x-python",
   "name": "python",
   "nbconvert_exporter": "python",
   "pygments_lexer": "ipython3",
   "version": "3.9.5"
  },
  "orig_nbformat": 4,
  "vscode": {
   "interpreter": {
    "hash": "e7604e8ec5f09e490e10161e37a4725039efd3ab703d81b1b8a1e00d6741866c"
   }
  }
 },
 "nbformat": 4,
 "nbformat_minor": 2
}
