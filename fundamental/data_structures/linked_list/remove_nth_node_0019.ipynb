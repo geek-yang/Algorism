{
 "cells": [
  {
   "cell_type": "code",
   "execution_count": null,
   "metadata": {},
   "outputs": [],
   "source": [
    "from typing import List\n",
    "from typing import Optional"
   ]
  },
  {
   "cell_type": "code",
   "execution_count": null,
   "metadata": {},
   "outputs": [],
   "source": [
    "class ListNode:\n",
    "    def __init__(self, val = 0, next = None):\n",
    "        self.val = val\n",
    "        self.next = next\n",
    "\n",
    "class Solution:\n",
    "    def removeNthFromEnd(self, head: Optional[ListNode], n: int) -> Optional[ListNode]:\n",
    "        dummy = ListNode(next = head)\n",
    "        fast = dummy\n",
    "        slow = dummy\n",
    "        i = 0\n",
    "        while fast.next != None:\n",
    "            fast = fast.next\n",
    "            i += 1\n",
    "            # fast pointer need to move n+1 to make sure\n",
    "            #  that slow can point to the previous node of the one to be deleted\n",
    "            if i > n:\n",
    "                slow = slow.next\n",
    "\n",
    "        if i >= n:\n",
    "            slow.next = slow.next.next\n",
    "\n",
    "        return dummy.next"
   ]
  }
 ],
 "metadata": {
  "language_info": {
   "name": "python"
  },
  "orig_nbformat": 4
 },
 "nbformat": 4,
 "nbformat_minor": 2
}
