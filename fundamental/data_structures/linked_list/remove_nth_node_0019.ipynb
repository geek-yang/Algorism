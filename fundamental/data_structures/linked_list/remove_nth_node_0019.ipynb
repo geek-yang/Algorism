{
 "cells": [
  {
   "cell_type": "code",
   "execution_count": 19,
   "metadata": {},
   "outputs": [],
   "source": [
    "from typing import List\n",
    "from typing import Optional"
   ]
  },
  {
   "cell_type": "code",
   "execution_count": 20,
   "metadata": {},
   "outputs": [],
   "source": [
    "class ListNode:\n",
    "    def __init__(self, val = 0, next = None):\n",
    "        self.val = val\n",
    "        self.next = next\n",
    "\n",
    "class Solution:\n",
    "    def removeNthFromEnd(self, head: Optional[ListNode], n: int) -> Optional[ListNode]:\n",
    "        dummy = ListNode(next = head)\n",
    "        fast = dummy\n",
    "        slow = dummy\n",
    "        i = 0\n",
    "        while fast.next != None:\n",
    "            fast = fast.next\n",
    "            i += 1\n",
    "            # fast pointer need to move n+1 to make sure\n",
    "            #  that slow can point to the previous node of the one to be deleted\n",
    "            if i > n:\n",
    "                slow = slow.next\n",
    "\n",
    "        if i >= n:\n",
    "            slow.next = slow.next.next\n",
    "\n",
    "        return dummy.next\n",
    "    \n",
    "    def print_list(self, head):\n",
    "        cur = head\n",
    "        while (cur != None):\n",
    "            print(cur.val)\n",
    "            cur = cur.next"
   ]
  },
  {
   "cell_type": "code",
   "execution_count": 21,
   "metadata": {},
   "outputs": [
    {
     "name": "stdout",
     "output_type": "stream",
     "text": [
      "1\n",
      "2\n",
      "3\n",
      "4\n",
      "5\n",
      "remove a node\n",
      "2\n",
      "3\n",
      "4\n",
      "5\n"
     ]
    }
   ],
   "source": [
    "node_5 = ListNode(5)\n",
    "node_4 = ListNode(4, node_5)\n",
    "node_3 = ListNode(3, node_4)\n",
    "node_2 = ListNode(2, node_3)\n",
    "node_1 = ListNode(1, node_2)\n",
    "\n",
    "solver = Solution()\n",
    "solver.print_list(node_1)\n",
    "\n",
    "# remove a certain node\n",
    "print(\"remove a node\")\n",
    "n = 5\n",
    "new_list = solver.removeNthFromEnd(node_1, n)\n",
    "solver.print_list(new_list)"
   ]
  }
 ],
 "metadata": {
  "kernelspec": {
   "display_name": "Python 3.8.5 ('base')",
   "language": "python",
   "name": "python3"
  },
  "language_info": {
   "codemirror_mode": {
    "name": "ipython",
    "version": 3
   },
   "file_extension": ".py",
   "mimetype": "text/x-python",
   "name": "python",
   "nbconvert_exporter": "python",
   "pygments_lexer": "ipython3",
   "version": "3.8.5"
  },
  "orig_nbformat": 4,
  "vscode": {
   "interpreter": {
    "hash": "e7604e8ec5f09e490e10161e37a4725039efd3ab703d81b1b8a1e00d6741866c"
   }
  }
 },
 "nbformat": 4,
 "nbformat_minor": 2
}
