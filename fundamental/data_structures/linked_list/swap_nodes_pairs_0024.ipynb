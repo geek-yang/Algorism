{
 "cells": [
  {
   "cell_type": "code",
   "execution_count": 11,
   "metadata": {},
   "outputs": [],
   "source": [
    "from typing import List\n",
    "from typing import Optional"
   ]
  },
  {
   "cell_type": "code",
   "execution_count": 12,
   "metadata": {},
   "outputs": [],
   "source": [
    "class ListNode:\n",
    "    def __init__(self, val = 0, next = None):\n",
    "        self.val = val\n",
    "        self.next = next\n",
    "\n",
    "class Solution:\n",
    "    def swapPairs(self, head: Optional[ListNode]) -> Optional[ListNode]:\n",
    "        res = ListNode(next = head)\n",
    "        pre = res\n",
    "        while (pre.next and pre.next.next):\n",
    "            # node 1\n",
    "            cur = pre.next\n",
    "            # node 2\n",
    "            post = cur.next\n",
    "            # reverse order linking the nodes\n",
    "            cur.next = post.next # node 1 to node 3\n",
    "            post.next = cur # node 2 to node 1\n",
    "            pre.next = post # fake head to node 2\n",
    "            # take post as new pre (caveat! now the order is head -> 2 - > 1)\n",
    "            pre = cur\n",
    "\n",
    "        return res.next\n",
    "\n",
    "    def print_list(self, head):\n",
    "        cur = head\n",
    "        while cur != None:\n",
    "            print(cur.val)\n",
    "            cur = cur.next"
   ]
  },
  {
   "cell_type": "code",
   "execution_count": 13,
   "metadata": {},
   "outputs": [
    {
     "name": "stdout",
     "output_type": "stream",
     "text": [
      "1\n",
      "2\n",
      "3\n",
      "4\n",
      "5\n",
      "Swap every two nodes.\n",
      "2\n",
      "1\n",
      "4\n",
      "3\n",
      "5\n"
     ]
    }
   ],
   "source": [
    "node_5 = ListNode(5)\n",
    "node_4 = ListNode(4, node_5)\n",
    "node_3 = ListNode(3, node_4)\n",
    "node_2 = ListNode(2, node_3)\n",
    "node_1 = ListNode(1, node_2) # head node\n",
    "\n",
    "solver = Solution()\n",
    "solver.print_list(node_1)\n",
    "\n",
    "print(\"Swap every two nodes.\")\n",
    "\n",
    "swap_list = solver.swapPairs(node_1)\n",
    "solver.print_list(swap_list)"
   ]
  }
 ],
 "metadata": {
  "kernelspec": {
   "display_name": "Python 3.9.5 ('base')",
   "language": "python",
   "name": "python3"
  },
  "language_info": {
   "codemirror_mode": {
    "name": "ipython",
    "version": 3
   },
   "file_extension": ".py",
   "mimetype": "text/x-python",
   "name": "python",
   "nbconvert_exporter": "python",
   "pygments_lexer": "ipython3",
   "version": "3.9.5"
  },
  "orig_nbformat": 4,
  "vscode": {
   "interpreter": {
    "hash": "e7604e8ec5f09e490e10161e37a4725039efd3ab703d81b1b8a1e00d6741866c"
   }
  }
 },
 "nbformat": 4,
 "nbformat_minor": 2
}
