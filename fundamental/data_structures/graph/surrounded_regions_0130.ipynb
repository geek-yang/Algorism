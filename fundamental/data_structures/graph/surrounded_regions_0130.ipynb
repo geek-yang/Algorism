{
 "cells": [
  {
   "attachments": {},
   "cell_type": "markdown",
   "metadata": {},
   "source": [
    "Leetcode question 130 <br>\n",
    "https://leetcode.com/problems/surrounded-regions/"
   ]
  },
  {
   "cell_type": "markdown",
   "metadata": {},
   "source": [
    "Our strategy is to search from the boarder and mark all the neighbouring islands."
   ]
  },
  {
   "cell_type": "code",
   "execution_count": 7,
   "metadata": {},
   "outputs": [],
   "source": [
    "# DFS\n",
    "class Solution:\n",
    "    def solve(self, board: list[list[str]]) -> None:\n",
    "        \"\"\"\n",
    "        Do not return anything, modify board in-place instead.\n",
    "        \"\"\"\n",
    "        self.m = len(board)\n",
    "        self.n = len(board[0])\n",
    "        self.visited = [[0] * self.n for _ in range(self.m)]\n",
    "        self.directions = [(0, 1), (0, -1), (-1, 0), (1, 0)]\n",
    "\n",
    "        # check the first row and last row\n",
    "        for j in range(self.n):\n",
    "            if board[0][j] == \"O\" and self.visited[0][j] == 0:\n",
    "                self.dfs(0, j, board)\n",
    "                print(j)\n",
    "                print(board)\n",
    "\n",
    "            if board[self.m - 1][j] == \"O\" and self.visited[self.m - 1][j] == 0:\n",
    "                self.dfs(self.m - 1, j, board)\n",
    "        \n",
    "        # check the first column and last column\n",
    "        for i in range(self.m):\n",
    "            if board[i][0] == \"O\" and self.visited[i][0] == 0:\n",
    "                self.dfs(i, 0, board)\n",
    "\n",
    "            if board[i][self.n - 1] == \"O\" and self.visited[i][self.n - 1] == 0:\n",
    "                self.dfs(i, self.n - 1, board)\n",
    "\n",
    "        \n",
    "        for i in range(self.m):\n",
    "            for j in range(self.n):\n",
    "                if board[i][j] == \"O\":\n",
    "                    board[i][j] = \"X\"\n",
    "                elif board[i][j] == \"T\":\n",
    "                    board[i][j] = \"O\"\n",
    "\n",
    "    def dfs(self, i, j, board):\n",
    "        if board[i][j] == \"X\" or self.visited[i][j] == 1:\n",
    "            return\n",
    "        \n",
    "        self.visited[i][j] = 1\n",
    "        board[i][j] = \"T\" # temporary\n",
    "\n",
    "        for dir in self.directions:\n",
    "            ii = i + dir[0]\n",
    "            jj = j + dir[1]\n",
    "\n",
    "            if ii >= self.m or ii < 0 or jj >= self.n or jj < 0:\n",
    "                continue\n",
    "\n",
    "            self.dfs(ii, jj, board)\n"
   ]
  },
  {
   "cell_type": "markdown",
   "metadata": {},
   "source": [
    "Time complexity: O(mn) <br>\n",
    "Space complexity: O(mn) <br>\n",
    "\n",
    "Next let's run some test cases."
   ]
  },
  {
   "cell_type": "code",
   "execution_count": 8,
   "metadata": {},
   "outputs": [
    {
     "name": "stdout",
     "output_type": "stream",
     "text": [
      "[['X', 'X', 'X', 'X'], ['X', 'O', 'O', 'X'], ['X', 'X', 'O', 'X'], ['X', 'O', 'X', 'X']]\n",
      "[['X', 'X', 'X', 'X'], ['X', 'X', 'X', 'X'], ['X', 'X', 'X', 'X'], ['X', 'O', 'X', 'X']]\n"
     ]
    }
   ],
   "source": [
    "board = [[\"X\",\"X\",\"X\",\"X\"],[\"X\",\"O\",\"O\",\"X\"],[\"X\",\"X\",\"O\",\"X\"],[\"X\",\"O\",\"X\",\"X\"]]\n",
    "print(board)\n",
    "solution = Solution()\n",
    "solution.solve(board)\n",
    "print(board)"
   ]
  }
 ],
 "metadata": {
  "kernelspec": {
   "display_name": "Python 3",
   "language": "python",
   "name": "python3"
  },
  "language_info": {
   "codemirror_mode": {
    "name": "ipython",
    "version": 3
   },
   "file_extension": ".py",
   "mimetype": "text/x-python",
   "name": "python",
   "nbconvert_exporter": "python",
   "pygments_lexer": "ipython3",
   "version": "3.10.9"
  },
  "orig_nbformat": 4,
  "vscode": {
   "interpreter": {
    "hash": "b197f2d146ba9dade075c512c2d967b6caa99253af0cd5aa569ca8174c9a813e"
   }
  }
 },
 "nbformat": 4,
 "nbformat_minor": 2
}
