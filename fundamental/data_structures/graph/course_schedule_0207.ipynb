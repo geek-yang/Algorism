{
 "cells": [
  {
   "cell_type": "code",
   "execution_count": 1,
   "metadata": {},
   "outputs": [],
   "source": [
    "from collections import deque\n",
    "from typing import List"
   ]
  },
  {
   "cell_type": "code",
   "execution_count": 2,
   "metadata": {},
   "outputs": [],
   "source": [
    "# topological sorting\n",
    "\n",
    "class Solution:\n",
    "    def canFinish(self, numCourses: int, prerequisites: List[List[int]]) -> bool:\n",
    "        # create space for graph\n",
    "        graph = [[] for _ in range(numCourses)]\n",
    "        # check indegree status of each node\n",
    "        indegree = [0] * numCourses\n",
    "\n",
    "        for v, u in prerequisites:\n",
    "            graph[u].append(v)\n",
    "            indegree[v] += 1\n",
    "\n",
    "        queue = deque()\n",
    "        # get all indegree nodes into queue\n",
    "        # indegree nodes are actually starting points\n",
    "        for i in range(len(indegree)):\n",
    "            if not indegree[i]:\n",
    "                queue.append(i)\n",
    "\n",
    "        while queue:\n",
    "            u = queue.popleft()\n",
    "            # one course is visited\n",
    "            numCourses -= 1\n",
    "            # check all adjaced members\n",
    "            for v in graph[u]:\n",
    "                # indegree is switched to 0, which means they can be used to visit others\n",
    "                indegree[v] -= 1\n",
    "                if indegree[v] == 0:\n",
    "                    queue.append(v)\n",
    "\n",
    "        return numCourses == 0"
   ]
  },
  {
   "cell_type": "code",
   "execution_count": 3,
   "metadata": {},
   "outputs": [
    {
     "name": "stdout",
     "output_type": "stream",
     "text": [
      "True\n"
     ]
    }
   ],
   "source": [
    "numCourses = 2\n",
    "prerequisites = [[1,0]]\n",
    "\n",
    "solver = Solution()\n",
    "result = solver.canFinish(numCourses, prerequisites)\n",
    "print(result)"
   ]
  },
  {
   "cell_type": "code",
   "execution_count": 4,
   "metadata": {},
   "outputs": [
    {
     "name": "stdout",
     "output_type": "stream",
     "text": [
      "False\n"
     ]
    }
   ],
   "source": [
    "numCourses = 2\n",
    "prerequisites = [[1,0],[0,1]]\n",
    "\n",
    "result = solver.canFinish(numCourses, prerequisites)\n",
    "print(result)"
   ]
  }
 ],
 "metadata": {
  "kernelspec": {
   "display_name": "Python 3.9.5 ('base')",
   "language": "python",
   "name": "python3"
  },
  "language_info": {
   "codemirror_mode": {
    "name": "ipython",
    "version": 3
   },
   "file_extension": ".py",
   "mimetype": "text/x-python",
   "name": "python",
   "nbconvert_exporter": "python",
   "pygments_lexer": "ipython3",
   "version": "3.9.5"
  },
  "orig_nbformat": 4,
  "vscode": {
   "interpreter": {
    "hash": "e7604e8ec5f09e490e10161e37a4725039efd3ab703d81b1b8a1e00d6741866c"
   }
  }
 },
 "nbformat": 4,
 "nbformat_minor": 2
}
