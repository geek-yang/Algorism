{
 "cells": [
  {
   "cell_type": "code",
   "execution_count": null,
   "metadata": {},
   "outputs": [],
   "source": [
    "from typing import Optional"
   ]
  },
  {
   "cell_type": "code",
   "execution_count": null,
   "metadata": {},
   "outputs": [],
   "source": [
    "class Node:\n",
    "    def __init__(self, x: int, next: 'Node' = None, random: 'Node' = None):\n",
    "        self.val = int(x)\n",
    "        self.next = next\n",
    "        self.random = random"
   ]
  },
  {
   "cell_type": "code",
   "execution_count": null,
   "metadata": {},
   "outputs": [],
   "source": [
    "class Solution:\n",
    "    def copyRandomList(self, head: 'Optional[Node]') -> 'Optional[Node]':\n",
    "        \"\"\"Two steps\n",
    "        1. copy old nodes\n",
    "        2. link new nodes based on old nodes mapping\n",
    "        \"\"\"\n",
    "        if not head: return head\n",
    "        # a copy of old nodes\n",
    "        node_map = {None: None} # None is for the link\n",
    "        cur = head\n",
    "        while cur:\n",
    "            copy_node = Node(cur.val)\n",
    "            node_map[cur] = copy_node\n",
    "            cur = cur.next\n",
    "\n",
    "        # link new nodes based on old nodes\n",
    "        cur = head\n",
    "        while cur:\n",
    "            copy_node = node_map[cur]\n",
    "            copy_node.next = node_map[cur.next]\n",
    "            copy_node.random = node_map[cur.random]\n",
    "            cur = cur.next\n",
    "\n",
    "        return node_map[head]\n",
    "        "
   ]
  },
  {
   "cell_type": "code",
   "execution_count": null,
   "metadata": {},
   "outputs": [],
   "source": [
    "head = [[7,None],[13,0],[11,4],[10,2],[1,0]]"
   ]
  }
 ],
 "metadata": {
  "kernelspec": {
   "display_name": "Python 3.9.5 ('base')",
   "language": "python",
   "name": "python3"
  },
  "language_info": {
   "name": "python",
   "version": "3.9.5"
  },
  "orig_nbformat": 4,
  "vscode": {
   "interpreter": {
    "hash": "e7604e8ec5f09e490e10161e37a4725039efd3ab703d81b1b8a1e00d6741866c"
   }
  }
 },
 "nbformat": 4,
 "nbformat_minor": 2
}
