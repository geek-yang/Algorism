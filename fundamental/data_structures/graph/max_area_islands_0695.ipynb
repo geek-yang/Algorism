{
 "cells": [
  {
   "cell_type": "markdown",
   "metadata": {},
   "source": [
    "Leetcode question 695 <br>\n",
    "https://leetcode.com/problems/max-area-of-island/"
   ]
  },
  {
   "cell_type": "code",
   "execution_count": 3,
   "metadata": {},
   "outputs": [],
   "source": [
    "# DFS\n",
    "class Solution:\n",
    "    def maxAreaOfIsland(self, grid: list[list[int]]) -> int:\n",
    "        self.m = len(grid)\n",
    "        self.n = len(grid[0])\n",
    "        visited = [[False] * self.n for _ in range(self.m)]\n",
    "        max_area = 0\n",
    "        self.direction = [(0, 1), (1, 0), (-1, 0), (0, -1)]\n",
    "\n",
    "        for i in range(self.m):\n",
    "            for j in range(self.n):\n",
    "                cur_area = 0\n",
    "                if grid[i][j] == 1 and visited[i][j] == False:\n",
    "                    cur_area = self.dfs(grid, i, j, visited, cur_area)\n",
    "                max_area = max(max_area, cur_area)\n",
    "                    \n",
    "        return max_area\n",
    "    \n",
    "    def dfs(self, grid, i, j, visited, area):\n",
    "        area += 1\n",
    "        visited[i][j] = True\n",
    "\n",
    "        for dir in self.direction:\n",
    "            ii = i + dir[0]\n",
    "            jj = j + dir[1]\n",
    "            if ii >= self.m or ii < 0:\n",
    "                continue\n",
    "            if jj >= self.n or jj < 0:\n",
    "                continue\n",
    "            if visited[ii][jj] == True:\n",
    "                continue\n",
    "            if grid[ii][jj] == 0:\n",
    "                visited[ii][jj] = True\n",
    "                continue\n",
    "            area = self.dfs(grid, ii, jj, visited, area)\n",
    "\n",
    "        return area"
   ]
  },
  {
   "attachments": {},
   "cell_type": "markdown",
   "metadata": {},
   "source": [
    "Time complexity: O(mn) <br>\n",
    "Space complexity: O(mn) <br>\n",
    "\n",
    "Next let's run some test cases."
   ]
  },
  {
   "cell_type": "code",
   "execution_count": 4,
   "metadata": {},
   "outputs": [
    {
     "name": "stdout",
     "output_type": "stream",
     "text": [
      "6\n"
     ]
    }
   ],
   "source": [
    "grid = [[0,0,1,0,0,0,0,1,0,0,0,0,0],\n",
    "        [0,0,0,0,0,0,0,1,1,1,0,0,0],\n",
    "        [0,1,1,0,1,0,0,0,0,0,0,0,0],\n",
    "        [0,1,0,0,1,1,0,0,1,0,1,0,0],\n",
    "        [0,1,0,0,1,1,0,0,1,1,1,0,0],\n",
    "        [0,0,0,0,0,0,0,0,0,0,1,0,0],\n",
    "        [0,0,0,0,0,0,0,1,1,1,0,0,0],\n",
    "        [0,0,0,0,0,0,0,1,1,0,0,0,0]]\n",
    "\n",
    "solution = Solution()\n",
    "area = solution.maxAreaOfIsland(grid)\n",
    "print(area)"
   ]
  }
 ],
 "metadata": {
  "kernelspec": {
   "display_name": "Python 3",
   "language": "python",
   "name": "python3"
  },
  "language_info": {
   "codemirror_mode": {
    "name": "ipython",
    "version": 3
   },
   "file_extension": ".py",
   "mimetype": "text/x-python",
   "name": "python",
   "nbconvert_exporter": "python",
   "pygments_lexer": "ipython3",
   "version": "3.10.9"
  },
  "orig_nbformat": 4,
  "vscode": {
   "interpreter": {
    "hash": "b197f2d146ba9dade075c512c2d967b6caa99253af0cd5aa569ca8174c9a813e"
   }
  }
 },
 "nbformat": 4,
 "nbformat_minor": 2
}
