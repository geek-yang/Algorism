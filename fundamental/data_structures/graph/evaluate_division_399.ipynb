{
 "cells": [
  {
   "cell_type": "code",
   "execution_count": 10,
   "metadata": {},
   "outputs": [],
   "source": [
    "from typing import List"
   ]
  },
  {
   "cell_type": "code",
   "execution_count": 11,
   "metadata": {},
   "outputs": [],
   "source": [
    "class Solution:\n",
    "    def calcEquation(self, equations: List[List[str]],\n",
    "     values: List[float], queries: List[List[str]]) -> List[float]:\n",
    "        # union find\n",
    "        self.U = {}\n",
    "        for (x, y), v in zip(equations, values):\n",
    "            if x not in self.U and y not in self.U:\n",
    "                self.U[x] = (y, v)\n",
    "                self.U[y] = (y, 1.0)\n",
    "            elif x not in self.U:\n",
    "                self.U[x] = (y, v)\n",
    "            elif y not in self.U:\n",
    "                self.U[y] = (x, 1.0 / v)\n",
    "            else:\n",
    "                rx, vx = self.find(x)\n",
    "                ry, vy = self.find(y)\n",
    "                self.U[rx] = (ry, v / vx * vy)\n",
    "\n",
    "        results = [self.divide(x, y) if x in self.U and y in self.U else -1 for x, y in queries]\n",
    "        return results\n",
    "\n",
    "    def find(self, x):\n",
    "        if x != self.U[x][0]:\n",
    "            px, pv = self.find(self.U[x][0])\n",
    "            self.U[x] = (px, self.U[x][1] * pv)\n",
    "        return self.U[x]\n",
    "\n",
    "    def divide(self, x, y):\n",
    "        rx, vx = self.find(x)\n",
    "        ry, vy = self.find(y)\n",
    "        if rx != ry: return -1.0\n",
    "        return vx / vy        \n"
   ]
  },
  {
   "cell_type": "code",
   "execution_count": 12,
   "metadata": {},
   "outputs": [
    {
     "name": "stdout",
     "output_type": "stream",
     "text": [
      "[0.5, 2.0, -1, -1]\n"
     ]
    }
   ],
   "source": [
    "equations = [[\"a\",\"b\"]]\n",
    "values = [0.5]\n",
    "queries = [[\"a\",\"b\"],[\"b\",\"a\"],[\"a\",\"c\"],[\"x\",\"y\"]]\n",
    "\n",
    "solver = Solution()\n",
    "results = solver.calcEquation(equations, values, queries)\n",
    "print(results)"
   ]
  }
 ],
 "metadata": {
  "kernelspec": {
   "display_name": "Python 3.9.5 ('base')",
   "language": "python",
   "name": "python3"
  },
  "language_info": {
   "codemirror_mode": {
    "name": "ipython",
    "version": 3
   },
   "file_extension": ".py",
   "mimetype": "text/x-python",
   "name": "python",
   "nbconvert_exporter": "python",
   "pygments_lexer": "ipython3",
   "version": "3.9.5"
  },
  "orig_nbformat": 4,
  "vscode": {
   "interpreter": {
    "hash": "e7604e8ec5f09e490e10161e37a4725039efd3ab703d81b1b8a1e00d6741866c"
   }
  }
 },
 "nbformat": 4,
 "nbformat_minor": 2
}
