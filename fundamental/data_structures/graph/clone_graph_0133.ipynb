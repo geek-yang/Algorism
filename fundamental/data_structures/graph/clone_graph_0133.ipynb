{
 "cells": [
  {
   "cell_type": "code",
   "execution_count": 27,
   "metadata": {},
   "outputs": [],
   "source": [
    "from typing import List\n",
    "from collections import deque"
   ]
  },
  {
   "cell_type": "code",
   "execution_count": 28,
   "metadata": {},
   "outputs": [],
   "source": [
    "class Node:\n",
    "    def __init__(self, val = 0, neighbors = None):\n",
    "        self.val = val\n",
    "        self.neighbors = neighbors if neighbors is not None else []"
   ]
  },
  {
   "cell_type": "code",
   "execution_count": 29,
   "metadata": {},
   "outputs": [],
   "source": [
    "class Solution:\n",
    "    def cloneGraph(self, node: 'Node') -> 'Node':\n",
    "        # https://lenchen.medium.com/leetcode-133-clone-graph-fdbfe902ed4\n",
    "        # BFS with queue + hashtable\n",
    "        if not node: return node\n",
    "        queue = deque([node])\n",
    "        node_map = {}\n",
    "        # copy head node and save it to the hashtable\n",
    "        copy_node = Node(node.val)\n",
    "        node_map[node.val] = copy_node\n",
    "\n",
    "        while queue:\n",
    "            current = queue.popleft()\n",
    "            for neighbor in current.neighbors:\n",
    "                # make sure each neighbors has a copy in node_map\n",
    "                if not neighbor.val in node_map:\n",
    "                    copy_node = Node(neighbor.val)\n",
    "                    node_map[neighbor.val] = copy_node\n",
    "                    queue.append(neighbor)\n",
    "\n",
    "                # push copy neighbor into neighbors field of copy current\n",
    "                node_map[current.val].neighbors.append(node_map[neighbor.val])\n",
    "\n",
    "        return node_map[node.val]"
   ]
  },
  {
   "cell_type": "code",
   "execution_count": null,
   "metadata": {},
   "outputs": [],
   "source": [
    "class Solution:\n",
    "    def cloneGraph(self, node):\n",
    "        \"\"\"\n",
    "        :type node: Node\n",
    "        :rtype: Node\n",
    "        \"\"\"\n",
    "        # BFS with stack + hashtable\n",
    "        # https://tehub.com/a/8xjzcc6yZA\n",
    "        if not node: return node\n",
    "        root = Node(node.val)\n",
    "        stack = [node]\n",
    "        # hashtable to record visit and save new nodes (therefore graph)\n",
    "        visit = {}\n",
    "        visit[node.val] = root\n",
    "        while stack:\n",
    "            top = stack.pop()\n",
    "            for n in top.neighbors:\n",
    "                if n.val not in visit:\n",
    "                    stack.append(n)\n",
    "                    # create copy for new nodes (neighbor) and add them to visit list\n",
    "                    visit[n.val] = Node(n.val)\n",
    "                # add neighbors to the current node\n",
    "                visit[top.val].neighbors.append(visit[n.val])\n",
    "        return root"
   ]
  },
  {
   "cell_type": "code",
   "execution_count": null,
   "metadata": {},
   "outputs": [],
   "source": [
    "class Solution:\n",
    "    def __init__(self):\n",
    "        self.visit = {}\n",
    "        \n",
    "    def cloneGraph(self, node: 'Node') -> 'Node':\n",
    "        # DFS with recursion\n",
    "        if not node:\n",
    "            return node\n",
    "        if node in self.visit:\n",
    "            return self.visit[node]\n",
    "        res = Node(node.val, [])\n",
    "        self.visit[node] = res\n",
    "        if node.neighbors:\n",
    "            res.neighbors = [self.cloneGraph(n) for n in node.neighbors]\n",
    "        return res"
   ]
  }
 ],
 "metadata": {
  "kernelspec": {
   "display_name": "Python 3.9.5 ('base')",
   "language": "python",
   "name": "python3"
  },
  "language_info": {
   "codemirror_mode": {
    "name": "ipython",
    "version": 3
   },
   "file_extension": ".py",
   "mimetype": "text/x-python",
   "name": "python",
   "nbconvert_exporter": "python",
   "pygments_lexer": "ipython3",
   "version": "3.9.5"
  },
  "orig_nbformat": 4,
  "vscode": {
   "interpreter": {
    "hash": "e7604e8ec5f09e490e10161e37a4725039efd3ab703d81b1b8a1e00d6741866c"
   }
  }
 },
 "nbformat": 4,
 "nbformat_minor": 2
}
