{
 "cells": [
  {
   "cell_type": "code",
   "execution_count": 13,
   "metadata": {},
   "outputs": [],
   "source": [
    "from typing import List\n",
    "from collections import deque"
   ]
  },
  {
   "cell_type": "code",
   "execution_count": 14,
   "metadata": {},
   "outputs": [],
   "source": [
    "class Solution:\n",
    "    def possibleBipartition(self, n: int, dislikes: List[List[int]]) -> bool:\n",
    "        if n <= 2:\n",
    "            return True\n",
    "\n",
    "        # turn pairs to graph\n",
    "        graph = [[] for _ in range(n+1)]\n",
    "        for u, v in dislikes:\n",
    "            graph[u].append(v)\n",
    "            graph[v].append(u)\n",
    "\n",
    "        colors = [0] * (n+1)\n",
    "\n",
    "        # bfs\n",
    "        queue = deque()\n",
    "\n",
    "        for i in range(1, n+1):\n",
    "            if not colors[i]:\n",
    "                colors[i] = 1\n",
    "                queue.append(i)\n",
    "            while queue:\n",
    "                u = queue.popleft()\n",
    "                if not graph[u]:\n",
    "                    continue\n",
    "                for v in graph[u]:\n",
    "                    if not colors[v]:\n",
    "                        colors[v] = -colors[u]\n",
    "                        queue.append(v)\n",
    "                    else:\n",
    "                        if colors[u] == colors[v]:\n",
    "                            return False\n",
    "        \n",
    "        return True"
   ]
  },
  {
   "cell_type": "code",
   "execution_count": 15,
   "metadata": {},
   "outputs": [
    {
     "name": "stdout",
     "output_type": "stream",
     "text": [
      "True\n"
     ]
    }
   ],
   "source": [
    "n = 4\n",
    "dislikes = [[1,2],[1,3],[2,4]]\n",
    "\n",
    "solver = Solution()\n",
    "\n",
    "possible = solver.possibleBipartition(n, dislikes)\n",
    "print(possible)"
   ]
  },
  {
   "cell_type": "code",
   "execution_count": 16,
   "metadata": {},
   "outputs": [
    {
     "name": "stdout",
     "output_type": "stream",
     "text": [
      "False\n"
     ]
    }
   ],
   "source": [
    "n = 3\n",
    "dislikes = [[1,2],[1,3],[2,3]]\n",
    "possible = solver.possibleBipartition(n, dislikes)\n",
    "print(possible)"
   ]
  },
  {
   "cell_type": "code",
   "execution_count": 17,
   "metadata": {},
   "outputs": [
    {
     "name": "stdout",
     "output_type": "stream",
     "text": [
      "True\n"
     ]
    }
   ],
   "source": [
    "n = 10\n",
    "dislikes = [[1,2],[3,4],[5,6],[6,7],[8,9],[7,8]]\n",
    "possible = solver.possibleBipartition(n, dislikes)\n",
    "print(possible)"
   ]
  }
 ],
 "metadata": {
  "kernelspec": {
   "display_name": "Python 3.9.5 ('base')",
   "language": "python",
   "name": "python3"
  },
  "language_info": {
   "codemirror_mode": {
    "name": "ipython",
    "version": 3
   },
   "file_extension": ".py",
   "mimetype": "text/x-python",
   "name": "python",
   "nbconvert_exporter": "python",
   "pygments_lexer": "ipython3",
   "version": "3.9.5"
  },
  "orig_nbformat": 4,
  "vscode": {
   "interpreter": {
    "hash": "e7604e8ec5f09e490e10161e37a4725039efd3ab703d81b1b8a1e00d6741866c"
   }
  }
 },
 "nbformat": 4,
 "nbformat_minor": 2
}
