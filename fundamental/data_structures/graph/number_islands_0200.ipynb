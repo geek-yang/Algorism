{
 "cells": [
  {
   "cell_type": "markdown",
   "metadata": {},
   "source": [
    "Leetcode question 200 <br>\n",
    "https://leetcode.com/problems/number-of-islands/"
   ]
  },
  {
   "cell_type": "code",
   "execution_count": 1,
   "metadata": {},
   "outputs": [],
   "source": [
    "# DFS\n",
    "class SolutionDFS:\n",
    "    def numIslands(self, grid: list[list[str]]) -> int:\n",
    "        island = 0\n",
    "        m = len(grid)\n",
    "        if m == 0:\n",
    "            return island\n",
    "        n = len(grid[0])\n",
    "\n",
    "        for y in range(m):\n",
    "            for x in range(n):\n",
    "                if grid[y][x] == \"1\":\n",
    "                    island += 1\n",
    "                    self.dfs(grid, y, x, m, n)\n",
    "\n",
    "        return island\n",
    "\n",
    "    def dfs(self, grid, y, x, m, n):\n",
    "        # searching neighbours via recursion\n",
    "        if x < 0 or y < 0 or x >= n or y >= m or grid[y][x] == \"0\":\n",
    "            return\n",
    "        grid[y][x] = \"0\"\n",
    "        self.dfs(grid, y+1, x, m, n)\n",
    "        self.dfs(grid, y-1, x, m, n)\n",
    "        self.dfs(grid, y, x+1, m, n)\n",
    "        self.dfs(grid, y, x-1, m, n)"
   ]
  },
  {
   "cell_type": "code",
   "execution_count": 2,
   "metadata": {},
   "outputs": [],
   "source": [
    "from collections import deque"
   ]
  },
  {
   "cell_type": "code",
   "execution_count": 3,
   "metadata": {},
   "outputs": [],
   "source": [
    "# BFS\n",
    "class SolutionBFS:\n",
    "    def numIslands(self, grid: list[list[str]]) -> int:\n",
    "        islands = 0\n",
    "        self.m = len(grid)\n",
    "        self.n = len(grid[0])\n",
    "        self.direction = [(1, 0), (0, 1), (-1, 0), (0, -1)]\n",
    "        \n",
    "        visited = [[False] * self.n for _ in range(self.m)]\n",
    "\n",
    "        if self.m == 0:\n",
    "            return islands\n",
    "        \n",
    "        for i in range(self.m):\n",
    "            for j in range(self.n):\n",
    "                if grid[i][j] == \"1\" and visited[i][j] == False:\n",
    "                    islands += 1\n",
    "                    # mark all neighbours with BFS\n",
    "                    self.bfs(grid, visited, i, j)\n",
    "\n",
    "        return islands\n",
    "\n",
    "    def bfs(self, grid, visited, i, j):\n",
    "        marked = deque()\n",
    "        marked.append((i, j))\n",
    "        visited[i][j] = True\n",
    "\n",
    "        while marked:\n",
    "            cur = marked.popleft()\n",
    "            for dir in self.direction:\n",
    "                cur_h = cur[0] + dir[0]\n",
    "                cur_v = cur[1] + dir[1]           \n",
    "                if cur_h < 0 or cur_h >= self.m:\n",
    "                    continue\n",
    "                if cur_v < 0 or cur_v >= self.n:\n",
    "                    continue\n",
    "                if visited[cur_h][cur_v] == True:\n",
    "                    continue\n",
    "                if grid[cur_h][cur_v] != \"1\":\n",
    "                    continue\n",
    "                visited[cur_h][cur_v] = True\n",
    "                marked.append((cur_h, cur_v))"
   ]
  },
  {
   "cell_type": "code",
   "execution_count": 4,
   "metadata": {},
   "outputs": [
    {
     "name": "stdout",
     "output_type": "stream",
     "text": [
      "1\n"
     ]
    }
   ],
   "source": [
    "grid = [\n",
    "  [\"1\",\"1\",\"1\",\"1\",\"0\"],\n",
    "  [\"1\",\"1\",\"0\",\"1\",\"0\"],\n",
    "  [\"1\",\"1\",\"0\",\"0\",\"0\"],\n",
    "  [\"0\",\"0\",\"0\",\"0\",\"0\"]\n",
    "]\n",
    "\n",
    "solver = SolutionDFS()\n",
    "island = solver.numIslands(grid)\n",
    "print(island)"
   ]
  },
  {
   "cell_type": "code",
   "execution_count": 5,
   "metadata": {},
   "outputs": [
    {
     "name": "stdout",
     "output_type": "stream",
     "text": [
      "1\n"
     ]
    }
   ],
   "source": [
    "grid = [\n",
    "  [\"1\",\"1\",\"1\",\"1\",\"0\"],\n",
    "  [\"1\",\"1\",\"0\",\"1\",\"0\"],\n",
    "  [\"1\",\"1\",\"0\",\"0\",\"0\"],\n",
    "  [\"0\",\"0\",\"0\",\"0\",\"0\"]\n",
    "]\n",
    "\n",
    "solver = SolutionBFS()\n",
    "island = solver.numIslands(grid)\n",
    "print(island)"
   ]
  }
 ],
 "metadata": {
  "kernelspec": {
   "display_name": "Python 3",
   "language": "python",
   "name": "python3"
  },
  "language_info": {
   "codemirror_mode": {
    "name": "ipython",
    "version": 3
   },
   "file_extension": ".py",
   "mimetype": "text/x-python",
   "name": "python",
   "nbconvert_exporter": "python",
   "pygments_lexer": "ipython3",
   "version": "3.10.9"
  },
  "orig_nbformat": 4,
  "vscode": {
   "interpreter": {
    "hash": "b197f2d146ba9dade075c512c2d967b6caa99253af0cd5aa569ca8174c9a813e"
   }
  }
 },
 "nbformat": 4,
 "nbformat_minor": 2
}
