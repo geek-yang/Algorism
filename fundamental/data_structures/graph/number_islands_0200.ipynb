{
 "cells": [
  {
   "cell_type": "code",
   "execution_count": 7,
   "metadata": {},
   "outputs": [],
   "source": [
    "from typing import List"
   ]
  },
  {
   "cell_type": "code",
   "execution_count": 8,
   "metadata": {},
   "outputs": [],
   "source": [
    "class Solution:\n",
    "    def numIslands(self, grid: List[List[str]]) -> int:\n",
    "        island = 0\n",
    "        m = len(grid)\n",
    "        if m == 0:\n",
    "            return island\n",
    "        n = len(grid[0])\n",
    "\n",
    "        for y in range(m):\n",
    "            for x in range(n):\n",
    "                if grid[y][x] == \"1\":\n",
    "                    island += 1\n",
    "                    self.dfs(grid, y, x, m, n)\n",
    "\n",
    "        return island\n",
    "\n",
    "    def dfs(self, grid, y, x, m, n):\n",
    "        # searching neighbours via recursion\n",
    "        if x < 0 or y < 0 or x >= n or y >= m or grid[y][x] == \"0\":\n",
    "            return\n",
    "        grid[y][x] = \"0\"\n",
    "        self.dfs(grid, y+1, x, m, n)\n",
    "        self.dfs(grid, y-1, x, m, n)\n",
    "        self.dfs(grid, y, x+1, m, n)\n",
    "        self.dfs(grid, y, x-1, m, n)"
   ]
  },
  {
   "cell_type": "code",
   "execution_count": 9,
   "metadata": {},
   "outputs": [
    {
     "name": "stdout",
     "output_type": "stream",
     "text": [
      "1\n"
     ]
    }
   ],
   "source": [
    "grid = [\n",
    "  [\"1\",\"1\",\"1\",\"1\",\"0\"],\n",
    "  [\"1\",\"1\",\"0\",\"1\",\"0\"],\n",
    "  [\"1\",\"1\",\"0\",\"0\",\"0\"],\n",
    "  [\"0\",\"0\",\"0\",\"0\",\"0\"]\n",
    "]\n",
    "\n",
    "solver = Solution()\n",
    "island = solver.numIslands(grid)\n",
    "print(island)"
   ]
  }
 ],
 "metadata": {
  "kernelspec": {
   "display_name": "Python 3.9.5 ('base')",
   "language": "python",
   "name": "python3"
  },
  "language_info": {
   "codemirror_mode": {
    "name": "ipython",
    "version": 3
   },
   "file_extension": ".py",
   "mimetype": "text/x-python",
   "name": "python",
   "nbconvert_exporter": "python",
   "pygments_lexer": "ipython3",
   "version": "3.9.5"
  },
  "orig_nbformat": 4,
  "vscode": {
   "interpreter": {
    "hash": "e7604e8ec5f09e490e10161e37a4725039efd3ab703d81b1b8a1e00d6741866c"
   }
  }
 },
 "nbformat": 4,
 "nbformat_minor": 2
}
