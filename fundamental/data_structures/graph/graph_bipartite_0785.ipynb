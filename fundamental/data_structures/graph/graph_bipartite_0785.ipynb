{
 "cells": [
  {
   "cell_type": "code",
   "execution_count": 7,
   "metadata": {},
   "outputs": [],
   "source": [
    "from typing import List\n",
    "from collections import deque"
   ]
  },
  {
   "cell_type": "code",
   "execution_count": 8,
   "metadata": {},
   "outputs": [],
   "source": [
    "class Solution:\n",
    "    def isBipartite(self, graph: List[List[int]]) -> bool:\n",
    "        def dfs(i, color):\n",
    "            # coloring the node as red\n",
    "            colors[i] = color\n",
    "            # search its neighbours\n",
    "            for node in graph[i]:\n",
    "                if colors[node] == color:\n",
    "                    return False\n",
    "                if not colors[node] and not dfs(node, -color):\n",
    "                    return False\n",
    "            return True\n",
    "\n",
    "        if not graph:\n",
    "            return True\n",
    "\n",
    "        n = len(graph)\n",
    "        colors = [0] * n\n",
    "        for i in range(n):\n",
    "            # coloring and check all nodes without color\n",
    "            if not colors[i]:\n",
    "                if not dfs(i, 1):\n",
    "                    return False\n",
    "\n",
    "        return True"
   ]
  },
  {
   "cell_type": "code",
   "execution_count": 9,
   "metadata": {},
   "outputs": [
    {
     "name": "stdout",
     "output_type": "stream",
     "text": [
      "False\n"
     ]
    }
   ],
   "source": [
    "graph = [[1,2,3],[0,2],[0,1,3],[0,2]]\n",
    "\n",
    "solver = Solution()\n",
    "bipartite = solver.isBipartite(graph)\n",
    "print(bipartite)"
   ]
  },
  {
   "cell_type": "code",
   "execution_count": 10,
   "metadata": {},
   "outputs": [
    {
     "name": "stdout",
     "output_type": "stream",
     "text": [
      "True\n"
     ]
    }
   ],
   "source": [
    "graph = [[1,3],[0,2],[1,3],[0,2]]\n",
    "bipartite = solver.isBipartite(graph)\n",
    "print(bipartite)"
   ]
  }
 ],
 "metadata": {
  "kernelspec": {
   "display_name": "Python 3.9.5 ('base')",
   "language": "python",
   "name": "python3"
  },
  "language_info": {
   "codemirror_mode": {
    "name": "ipython",
    "version": 3
   },
   "file_extension": ".py",
   "mimetype": "text/x-python",
   "name": "python",
   "nbconvert_exporter": "python",
   "pygments_lexer": "ipython3",
   "version": "3.9.5"
  },
  "orig_nbformat": 4,
  "vscode": {
   "interpreter": {
    "hash": "e7604e8ec5f09e490e10161e37a4725039efd3ab703d81b1b8a1e00d6741866c"
   }
  }
 },
 "nbformat": 4,
 "nbformat_minor": 2
}
