{
 "cells": [
  {
   "attachments": {},
   "cell_type": "markdown",
   "metadata": {},
   "source": [
    "Leetcode question 797 <br>\n",
    "https://leetcode.com/problems/all-paths-from-source-to-target/"
   ]
  },
  {
   "cell_type": "code",
   "execution_count": 10,
   "metadata": {},
   "outputs": [],
   "source": [
    "from typing import List\n",
    "\n",
    "class Solution:\n",
    "    def allPathsSourceTarget(self, graph: List[List[int]]) -> List[List[int]]:\n",
    "        self.paths = []\n",
    "        if not graph:\n",
    "            return self.paths\n",
    "        path = [0]\n",
    "        self.back_track(graph, 0, path)\n",
    "        \n",
    "        return self.paths\n",
    "        \n",
    "    def back_track(self, graph, node, path):\n",
    "        if path[-1] == len(graph) - 1:\n",
    "            self.paths.append(path[:])\n",
    "            return\n",
    "        \n",
    "        for i in graph[node]:\n",
    "            path.append(i)\n",
    "            self.back_track(graph, i, path)\n",
    "            path.pop()"
   ]
  },
  {
   "attachments": {},
   "cell_type": "markdown",
   "metadata": {},
   "source": [
    "Time complexity: O(n * 2^n), where n* is due to appending path to result. <br>\n",
    "Space complexity: O() <br>\n",
    "\n",
    "Next let's run some test cases."
   ]
  },
  {
   "cell_type": "code",
   "execution_count": 11,
   "metadata": {},
   "outputs": [
    {
     "data": {
      "text/plain": [
       "[[0, 1, 3], [0, 2, 3]]"
      ]
     },
     "execution_count": 11,
     "metadata": {},
     "output_type": "execute_result"
    }
   ],
   "source": [
    "graph = [[1,2],[3],[3],[]]\n",
    "\n",
    "solution = Solution()\n",
    "results = solution.allPathsSourceTarget(graph)\n",
    "results"
   ]
  }
 ],
 "metadata": {
  "kernelspec": {
   "display_name": "Python 3",
   "language": "python",
   "name": "python3"
  },
  "language_info": {
   "codemirror_mode": {
    "name": "ipython",
    "version": 3
   },
   "file_extension": ".py",
   "mimetype": "text/x-python",
   "name": "python",
   "nbconvert_exporter": "python",
   "pygments_lexer": "ipython3",
   "version": "3.10.9"
  },
  "orig_nbformat": 4,
  "vscode": {
   "interpreter": {
    "hash": "b197f2d146ba9dade075c512c2d967b6caa99253af0cd5aa569ca8174c9a813e"
   }
  }
 },
 "nbformat": 4,
 "nbformat_minor": 2
}
