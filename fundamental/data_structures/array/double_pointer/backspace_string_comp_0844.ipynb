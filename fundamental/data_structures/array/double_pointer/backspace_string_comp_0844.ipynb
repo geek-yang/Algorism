{
 "cells": [
  {
   "attachments": {},
   "cell_type": "markdown",
   "metadata": {},
   "source": [
    "Leetcode question 844 <br>\n",
    "https://leetcode.com/problems/backspace-string-compare/"
   ]
  },
  {
   "cell_type": "code",
   "execution_count": 12,
   "metadata": {},
   "outputs": [],
   "source": [
    "class Solution:\n",
    "    def backspaceCompare(self, s: str, t: str) -> bool:\n",
    "        i = len(s) - 1  # s's index\n",
    "        j = len(t) - 1  # t's index\n",
    "\n",
    "        while True:\n",
    "            # Delete chars of s if needed.\n",
    "            backspace = 0\n",
    "            while i >= 0 and (s[i] == '#' or backspace > 0):\n",
    "                backspace += 1 if s[i] == '#' else -1\n",
    "                i -= 1\n",
    "            # Delete chars of t if needed.\n",
    "            backspace = 0\n",
    "            while j >= 0 and (t[j] == '#' or backspace > 0):\n",
    "                backspace += 1 if t[j] == '#' else -1\n",
    "                j -= 1\n",
    "            if i >= 0 and j >= 0 and s[i] == t[j]:\n",
    "                i -= 1\n",
    "                j -= 1\n",
    "            else:\n",
    "                break\n",
    "\n",
    "        return i == -1 and j == -1"
   ]
  },
  {
   "attachments": {},
   "cell_type": "markdown",
   "metadata": {},
   "source": [
    "Time complexity: O(n) <br>\n",
    "Space complexity: O(1) <br>\n",
    "\n",
    "Next let's run some test cases."
   ]
  },
  {
   "cell_type": "code",
   "execution_count": 13,
   "metadata": {},
   "outputs": [
    {
     "data": {
      "text/plain": [
       "True"
      ]
     },
     "execution_count": 13,
     "metadata": {},
     "output_type": "execute_result"
    }
   ],
   "source": [
    "s = \"ab#c\"\n",
    "t = \"ad#c\"\n",
    "\n",
    "solution = Solution()\n",
    "solution.backspaceCompare(s, t)"
   ]
  },
  {
   "cell_type": "code",
   "execution_count": 14,
   "metadata": {},
   "outputs": [
    {
     "data": {
      "text/plain": [
       "True"
      ]
     },
     "execution_count": 14,
     "metadata": {},
     "output_type": "execute_result"
    }
   ],
   "source": [
    "s = \"ab##\"\n",
    "t = \"c#d#\"\n",
    "solution.backspaceCompare(s, t)"
   ]
  }
 ],
 "metadata": {
  "kernelspec": {
   "display_name": "Python 3",
   "language": "python",
   "name": "python3"
  },
  "language_info": {
   "codemirror_mode": {
    "name": "ipython",
    "version": 3
   },
   "file_extension": ".py",
   "mimetype": "text/x-python",
   "name": "python",
   "nbconvert_exporter": "python",
   "pygments_lexer": "ipython3",
   "version": "3.10.9"
  },
  "orig_nbformat": 4,
  "vscode": {
   "interpreter": {
    "hash": "b197f2d146ba9dade075c512c2d967b6caa99253af0cd5aa569ca8174c9a813e"
   }
  }
 },
 "nbformat": 4,
 "nbformat_minor": 2
}
