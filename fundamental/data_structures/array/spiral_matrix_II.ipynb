{
 "cells": [
  {
   "cell_type": "code",
   "execution_count": 18,
   "metadata": {},
   "outputs": [],
   "source": [
    "from typing import List"
   ]
  },
  {
   "cell_type": "code",
   "execution_count": 19,
   "metadata": {},
   "outputs": [],
   "source": [
    "# complexity\n",
    "# time: O(n**2)\n",
    "# space: O(n**2)\n",
    "\n",
    "class Solution:\n",
    "    def generateMatrix(self, n: int) -> List[List[int]]:\n",
    "        nums = [[1] * n for _ in range(n)]\n",
    "        start_x = 0\n",
    "        start_y = 0\n",
    "        loop = n // 2\n",
    "        mid = n // 2\n",
    "        count = 1\n",
    "\n",
    "        for offset in range(1, loop + 1):\n",
    "            for i in range(start_y, n - offset):\n",
    "                nums[start_x][i] = count\n",
    "                count += 1\n",
    "            \n",
    "            for i in range(start_x, n - offset):\n",
    "                nums[i][n - offset] = count\n",
    "                count += 1\n",
    "\n",
    "            for i in range(n - offset, start_y, -1):\n",
    "                nums[n - offset][i] = count\n",
    "                count += 1\n",
    "\n",
    "            for i in range(n - offset, start_x, -1):\n",
    "                nums[i][start_y] = count\n",
    "                count += 1\n",
    "\n",
    "            start_x += 1\n",
    "            start_y += 1\n",
    "        \n",
    "        if n % 2 != 0:\n",
    "            nums[mid][mid] = count\n",
    "    \n",
    "        return nums"
   ]
  },
  {
   "cell_type": "code",
   "execution_count": 20,
   "metadata": {},
   "outputs": [
    {
     "name": "stdout",
     "output_type": "stream",
     "text": [
      "[[1, 2], [4, 3]]\n"
     ]
    }
   ],
   "source": [
    "n = 2\n",
    "solver = Solution()\n",
    "result = solver.generateMatrix(n)\n",
    "print(result)"
   ]
  }
 ],
 "metadata": {
  "kernelspec": {
   "display_name": "Python 3.8.5 ('base')",
   "language": "python",
   "name": "python3"
  },
  "language_info": {
   "codemirror_mode": {
    "name": "ipython",
    "version": 3
   },
   "file_extension": ".py",
   "mimetype": "text/x-python",
   "name": "python",
   "nbconvert_exporter": "python",
   "pygments_lexer": "ipython3",
   "version": "3.8.5"
  },
  "orig_nbformat": 4,
  "vscode": {
   "interpreter": {
    "hash": "e7604e8ec5f09e490e10161e37a4725039efd3ab703d81b1b8a1e00d6741866c"
   }
  }
 },
 "nbformat": 4,
 "nbformat_minor": 2
}
